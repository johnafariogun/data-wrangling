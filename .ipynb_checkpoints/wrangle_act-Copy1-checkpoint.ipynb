{
 "cells": [
  {
   "cell_type": "markdown",
   "metadata": {},
   "source": [
    "# GATHERING DATA"
   ]
  },
  {
   "cell_type": "code",
   "execution_count": 1,
   "metadata": {},
   "outputs": [],
   "source": [
    "#importing the needed modules for gathering our data\n",
    "import pandas as pd\n",
    "import requests as re\n",
    "import numpy as np\n",
    "import json "
   ]
  },
  {
   "cell_type": "code",
   "execution_count": 2,
   "metadata": {},
   "outputs": [],
   "source": [
    "# after downloading the Twitter archive csv data from udacity,\n",
    "# importing it into a DataFrame using the 'read_csv()' function\n",
    "enhanced_df = pd.read_csv('twitter-archive-enhanced.csv')"
   ]
  },
  {
   "cell_type": "code",
   "execution_count": 3,
   "metadata": {},
   "outputs": [],
   "source": [
    "# creating a function to help download files using the Requests library \n",
    "url = 'https://d17h27t6h515a5.cloudfront.net/topher/2017/August/599fd2ad_image-predictions/image-predictions.tsv'\n",
    "def resp(urls):\n",
    "    return re.get(urls)    \n",
    "response = resp(url)"
   ]
  },
  {
   "cell_type": "code",
   "execution_count": 4,
   "metadata": {},
   "outputs": [],
   "source": [
    "#  writing the file downloaded above into a file 'image-predictions.tsv'\n",
    "with open('image-predictions.tsv', mode = 'wb') as file:\n",
    "    file.write(response.content)"
   ]
  },
  {
   "cell_type": "code",
   "execution_count": 5,
   "metadata": {},
   "outputs": [],
   "source": [
    "# importing the tweet image predictions TSV file downloaded above into a DataFrame\n",
    "image_df = pd.read_csv('image-predictions.tsv', '\\t')"
   ]
  },
  {
   "cell_type": "code",
   "execution_count": 6,
   "metadata": {},
   "outputs": [],
   "source": [
    "# As the queryng the Twitter API for each tweet's JSON file was not able to be carried out.\n",
    "# the tweet-json.txt file was downloaded directly using the Requests library\n",
    "url= 'https://video.udacity-data.com/topher/2018/November/5be5fb7d_tweet-json/tweet-json.txt'\n",
    "answer = resp(url)"
   ]
  },
  {
   "cell_type": "code",
   "execution_count": 7,
   "metadata": {},
   "outputs": [],
   "source": [
    "# the tweet-json.txt was created and the response from the request above was written\n",
    "# into it \n",
    "with open('tweet-json.txt', 'wb') as file:\n",
    "    file.write(answer.content)"
   ]
  },
  {
   "cell_type": "code",
   "execution_count": 8,
   "metadata": {},
   "outputs": [],
   "source": [
    "# creating a list of dictionaries to read the tweet's JSON txt file data line by line\n",
    "tweet_df = []\n",
    "with open('tweet-json.txt', 'r') as file:\n",
    "    for line in file:\n",
    "        my_file = json.loads(line)\n",
    "        # appending the required data i.e id, retweet_count, favorite_count, display_text_range\n",
    "        # to the list of dictionaries\n",
    "        tweet_df.append({'tweet_id': my_file['id'],\n",
    "                       'retweet_count': my_file['retweet_count'],\n",
    "                       'favorite_count': my_file['favorite_count'],\n",
    "                       'display_text_range': my_file['display_text_range']})"
   ]
  },
  {
   "cell_type": "code",
   "execution_count": 9,
   "metadata": {},
   "outputs": [],
   "source": [
    "# converting the list tweet_df to a DataFrame \n",
    "tweet_df = pd.DataFrame.from_dict(tweet_df)"
   ]
  },
  {
   "cell_type": "markdown",
   "metadata": {},
   "source": [
    "# ASSESSING DATA"
   ]
  },
  {
   "cell_type": "markdown",
   "metadata": {},
   "source": [
    "we have 3 dataframes which are the :\n",
    "*tweet_df* : which contains the data from our json file containing the raw data soourced from twitter\n",
    "*enhanced_df*: which contains the partially clean data from twitter\n",
    "and the \n",
    "*image* dataframe: which contains the data gotten from the image predictions neural network"
   ]
  },
  {
   "cell_type": "code",
   "execution_count": 10,
   "metadata": {
    "scrolled": true
   },
   "outputs": [
    {
     "data": {
      "text/html": [
       "<div>\n",
       "<style scoped>\n",
       "    .dataframe tbody tr th:only-of-type {\n",
       "        vertical-align: middle;\n",
       "    }\n",
       "\n",
       "    .dataframe tbody tr th {\n",
       "        vertical-align: top;\n",
       "    }\n",
       "\n",
       "    .dataframe thead th {\n",
       "        text-align: right;\n",
       "    }\n",
       "</style>\n",
       "<table border=\"1\" class=\"dataframe\">\n",
       "  <thead>\n",
       "    <tr style=\"text-align: right;\">\n",
       "      <th></th>\n",
       "      <th>tweet_id</th>\n",
       "      <th>in_reply_to_status_id</th>\n",
       "      <th>in_reply_to_user_id</th>\n",
       "      <th>timestamp</th>\n",
       "      <th>source</th>\n",
       "      <th>text</th>\n",
       "      <th>retweeted_status_id</th>\n",
       "      <th>retweeted_status_user_id</th>\n",
       "      <th>retweeted_status_timestamp</th>\n",
       "      <th>expanded_urls</th>\n",
       "      <th>rating_numerator</th>\n",
       "      <th>rating_denominator</th>\n",
       "      <th>name</th>\n",
       "      <th>doggo</th>\n",
       "      <th>floofer</th>\n",
       "      <th>pupper</th>\n",
       "      <th>puppo</th>\n",
       "    </tr>\n",
       "  </thead>\n",
       "  <tbody>\n",
       "    <tr>\n",
       "      <td>0</td>\n",
       "      <td>892420643555336193</td>\n",
       "      <td>NaN</td>\n",
       "      <td>NaN</td>\n",
       "      <td>2017-08-01 16:23:56 +0000</td>\n",
       "      <td>&lt;a href=\"http://twitter.com/download/iphone\" r...</td>\n",
       "      <td>This is Phineas. He's a mystical boy. Only eve...</td>\n",
       "      <td>NaN</td>\n",
       "      <td>NaN</td>\n",
       "      <td>NaN</td>\n",
       "      <td>https://twitter.com/dog_rates/status/892420643...</td>\n",
       "      <td>13</td>\n",
       "      <td>10</td>\n",
       "      <td>Phineas</td>\n",
       "      <td>None</td>\n",
       "      <td>None</td>\n",
       "      <td>None</td>\n",
       "      <td>None</td>\n",
       "    </tr>\n",
       "    <tr>\n",
       "      <td>1</td>\n",
       "      <td>892177421306343426</td>\n",
       "      <td>NaN</td>\n",
       "      <td>NaN</td>\n",
       "      <td>2017-08-01 00:17:27 +0000</td>\n",
       "      <td>&lt;a href=\"http://twitter.com/download/iphone\" r...</td>\n",
       "      <td>This is Tilly. She's just checking pup on you....</td>\n",
       "      <td>NaN</td>\n",
       "      <td>NaN</td>\n",
       "      <td>NaN</td>\n",
       "      <td>https://twitter.com/dog_rates/status/892177421...</td>\n",
       "      <td>13</td>\n",
       "      <td>10</td>\n",
       "      <td>Tilly</td>\n",
       "      <td>None</td>\n",
       "      <td>None</td>\n",
       "      <td>None</td>\n",
       "      <td>None</td>\n",
       "    </tr>\n",
       "    <tr>\n",
       "      <td>2</td>\n",
       "      <td>891815181378084864</td>\n",
       "      <td>NaN</td>\n",
       "      <td>NaN</td>\n",
       "      <td>2017-07-31 00:18:03 +0000</td>\n",
       "      <td>&lt;a href=\"http://twitter.com/download/iphone\" r...</td>\n",
       "      <td>This is Archie. He is a rare Norwegian Pouncin...</td>\n",
       "      <td>NaN</td>\n",
       "      <td>NaN</td>\n",
       "      <td>NaN</td>\n",
       "      <td>https://twitter.com/dog_rates/status/891815181...</td>\n",
       "      <td>12</td>\n",
       "      <td>10</td>\n",
       "      <td>Archie</td>\n",
       "      <td>None</td>\n",
       "      <td>None</td>\n",
       "      <td>None</td>\n",
       "      <td>None</td>\n",
       "    </tr>\n",
       "  </tbody>\n",
       "</table>\n",
       "</div>"
      ],
      "text/plain": [
       "             tweet_id  in_reply_to_status_id  in_reply_to_user_id  \\\n",
       "0  892420643555336193                    NaN                  NaN   \n",
       "1  892177421306343426                    NaN                  NaN   \n",
       "2  891815181378084864                    NaN                  NaN   \n",
       "\n",
       "                   timestamp  \\\n",
       "0  2017-08-01 16:23:56 +0000   \n",
       "1  2017-08-01 00:17:27 +0000   \n",
       "2  2017-07-31 00:18:03 +0000   \n",
       "\n",
       "                                              source  \\\n",
       "0  <a href=\"http://twitter.com/download/iphone\" r...   \n",
       "1  <a href=\"http://twitter.com/download/iphone\" r...   \n",
       "2  <a href=\"http://twitter.com/download/iphone\" r...   \n",
       "\n",
       "                                                text  retweeted_status_id  \\\n",
       "0  This is Phineas. He's a mystical boy. Only eve...                  NaN   \n",
       "1  This is Tilly. She's just checking pup on you....                  NaN   \n",
       "2  This is Archie. He is a rare Norwegian Pouncin...                  NaN   \n",
       "\n",
       "   retweeted_status_user_id retweeted_status_timestamp  \\\n",
       "0                       NaN                        NaN   \n",
       "1                       NaN                        NaN   \n",
       "2                       NaN                        NaN   \n",
       "\n",
       "                                       expanded_urls  rating_numerator  \\\n",
       "0  https://twitter.com/dog_rates/status/892420643...                13   \n",
       "1  https://twitter.com/dog_rates/status/892177421...                13   \n",
       "2  https://twitter.com/dog_rates/status/891815181...                12   \n",
       "\n",
       "   rating_denominator     name doggo floofer pupper puppo  \n",
       "0                  10  Phineas  None    None   None  None  \n",
       "1                  10    Tilly  None    None   None  None  \n",
       "2                  10   Archie  None    None   None  None  "
      ]
     },
     "execution_count": 10,
     "metadata": {},
     "output_type": "execute_result"
    }
   ],
   "source": [
    "enhanced_df.head(3)"
   ]
  },
  {
   "cell_type": "markdown",
   "metadata": {},
   "source": [
    "- **tweet_id**: the unique identifier for each tweet\n",
    "- **in_reply_to_status_id**: if the represented Tweet is a reply, this field will contain the integer representation of the original Tweet’s ID\n",
    "- **in_reply_to_user_id**: if the represented Tweet is a reply, this field will contain the integer representation of the original Tweet’s author ID\n",
    "- **timestamp**: time when this Tweet was created\n",
    "- **source**: utility used to post the Tweet, as an HTML-formatted string. e.g. Twitter for Android, Twitter for iPhone, Twitter Web Client\n",
    "- **text**: actual UTF-8 text of the status update\n",
    "- **retweeted_status_id**: if the represented Tweet is a retweet, this field will contain the integer representation of the original Tweet’s ID\n",
    "- **retweeted_status_user_id**: if the represented Tweet is a retweet, this field will contain the integer representation of the original Tweet’s author ID\n",
    "- **retweeted_status_timestamp**: time of retweet\n",
    "- **expanded_urls**: tweet URL\n",
    "- **rating_numerator**: numerator of the rating of a dog. Note: ratings almost always greater than 10\n",
    "- **display_text_range**: \n",
    "- **rating_denominator**: denominator of the rating of a dog. Note: ratings almost always have a denominator of 10\n",
    "- **name**: name of the dog\n",
    "- **doggo**: one of the 4 dog \"stage\". An affectionate term for dogs.\n",
    "- **floofer**: one of the 4 dog \"stage\". A word for a very big dog, used affectionately.\n",
    "- **pupper**: one of the 4 dog \"stage\". An affectionate word for puppies.\n",
    "- **puppo**: one of the 4 dog \"stage\""
   ]
  },
  {
   "cell_type": "code",
   "execution_count": 11,
   "metadata": {},
   "outputs": [
    {
     "name": "stdout",
     "output_type": "stream",
     "text": [
      "<class 'pandas.core.frame.DataFrame'>\n",
      "RangeIndex: 2356 entries, 0 to 2355\n",
      "Data columns (total 17 columns):\n",
      "tweet_id                      2356 non-null int64\n",
      "in_reply_to_status_id         78 non-null float64\n",
      "in_reply_to_user_id           78 non-null float64\n",
      "timestamp                     2356 non-null object\n",
      "source                        2356 non-null object\n",
      "text                          2356 non-null object\n",
      "retweeted_status_id           181 non-null float64\n",
      "retweeted_status_user_id      181 non-null float64\n",
      "retweeted_status_timestamp    181 non-null object\n",
      "expanded_urls                 2297 non-null object\n",
      "rating_numerator              2356 non-null int64\n",
      "rating_denominator            2356 non-null int64\n",
      "name                          2356 non-null object\n",
      "doggo                         2356 non-null object\n",
      "floofer                       2356 non-null object\n",
      "pupper                        2356 non-null object\n",
      "puppo                         2356 non-null object\n",
      "dtypes: float64(4), int64(3), object(10)\n",
      "memory usage: 313.0+ KB\n"
     ]
    }
   ],
   "source": [
    "enhanced_df.info()"
   ]
  },
  {
   "cell_type": "code",
   "execution_count": 12,
   "metadata": {},
   "outputs": [
    {
     "data": {
      "text/plain": [
       "(2356, 17)"
      ]
     },
     "execution_count": 12,
     "metadata": {},
     "output_type": "execute_result"
    }
   ],
   "source": [
    "enhanced_df.shape"
   ]
  },
  {
   "cell_type": "code",
   "execution_count": 13,
   "metadata": {},
   "outputs": [
    {
     "data": {
      "text/plain": [
       "0"
      ]
     },
     "execution_count": 13,
     "metadata": {},
     "output_type": "execute_result"
    }
   ],
   "source": [
    "sum(enhanced_df.duplicated())"
   ]
  },
  {
   "cell_type": "code",
   "execution_count": 14,
   "metadata": {},
   "outputs": [
    {
     "data": {
      "text/plain": [
       "None              745\n",
       "a                  55\n",
       "Charlie            12\n",
       "Lucy               11\n",
       "Oliver             11\n",
       "Cooper             11\n",
       "Penny              10\n",
       "Lola               10\n",
       "Tucker             10\n",
       "Winston             9\n",
       "Bo                  9\n",
       "Sadie               8\n",
       "the                 8\n",
       "Toby                7\n",
       "an                  7\n",
       "Buddy               7\n",
       "Bailey              7\n",
       "Daisy               7\n",
       "Koda                6\n",
       "Dave                6\n",
       "Scout               6\n",
       "Jack                6\n",
       "Milo                6\n",
       "Rusty               6\n",
       "Stanley             6\n",
       "Oscar               6\n",
       "Bella               6\n",
       "Jax                 6\n",
       "Leo                 6\n",
       "very                5\n",
       "Louis               5\n",
       "Sammy               5\n",
       "Oakley              5\n",
       "Gus                 5\n",
       "George              5\n",
       "Larry               5\n",
       "Alfie               5\n",
       "Chester             5\n",
       "Finn                5\n",
       "Phil                5\n",
       "Sunny               5\n",
       "Bentley             5\n",
       "Clark               4\n",
       "Jerry               4\n",
       "Cassie              4\n",
       "Shadow              4\n",
       "Winnie              4\n",
       "Carl                4\n",
       "Beau                4\n",
       "Dexter              4\n",
       "Reggie              4\n",
       "Scooter             4\n",
       "Maggie              4\n",
       "just                4\n",
       "Bear                4\n",
       "Bruce               4\n",
       "Gary                4\n",
       "Sampson             4\n",
       "Clarence            4\n",
       "Maddie              4\n",
       "Riley               4\n",
       "Hank                4\n",
       "Boomer              4\n",
       "quite               4\n",
       "Luna                4\n",
       "Walter              4\n",
       "Derek               4\n",
       "Sophie              4\n",
       "Gerald              4\n",
       "Jeffrey             4\n",
       "Loki                4\n",
       "Chip                4\n",
       "Reginald            4\n",
       "Moose               4\n",
       "Brody               4\n",
       "Duke                4\n",
       "Maximus             4\n",
       "Ruby                4\n",
       "Archie              4\n",
       "one                 4\n",
       "Louie               3\n",
       "Waffles             3\n",
       "Lorenzo             3\n",
       "Zeke                3\n",
       "Frankie             3\n",
       "Vincent             3\n",
       "Reese               3\n",
       "Sebastian           3\n",
       "Steven              3\n",
       "Doug                3\n",
       "Calvin              3\n",
       "Ted                 3\n",
       "Otis                3\n",
       "Wilson              3\n",
       "Coco                3\n",
       "Earl                3\n",
       "Samson              3\n",
       "Malcolm             3\n",
       "Wallace             3\n",
       "Lily                3\n",
       "Rosie               3\n",
       "Rory                3\n",
       "Wyatt               3\n",
       "Kyle                3\n",
       "Arnie               3\n",
       "Colby               3\n",
       "Jimothy             3\n",
       "Peaches             3\n",
       "Mia                 3\n",
       "Zoey                3\n",
       "Nala                3\n",
       "Olive               3\n",
       "Ellie               3\n",
       "Gizmo               3\n",
       "Paisley             3\n",
       "Max                 3\n",
       "Klevin              3\n",
       "Sierra              2\n",
       "Philbert            2\n",
       "Bob                 2\n",
       "Kenny               2\n",
       "Maxaroni            2\n",
       "Flávio              2\n",
       "Balto               2\n",
       "Ash                 2\n",
       "Doc                 2\n",
       "Sandy               2\n",
       "Nelly               2\n",
       "Trooper             2\n",
       "Phineas             2\n",
       "Tyr                 2\n",
       "Butter              2\n",
       "Kilo                2\n",
       "Griffin             2\n",
       "Opal                2\n",
       "Theodore            2\n",
       "Fred                2\n",
       "Oshie               2\n",
       "Bernie              2\n",
       "Phred               2\n",
       "Fiona               2\n",
       "Tyrone              2\n",
       "Pippa               2\n",
       "Kevin               2\n",
       "Meyer               2\n",
       "Kirby               2\n",
       "Patrick             2\n",
       "Cali                2\n",
       "Franklin            2\n",
       "Dawn                2\n",
       "Roosevelt           2\n",
       "Gabe                2\n",
       "Thumas              2\n",
       "Keurig              2\n",
       "Kreggory            2\n",
       "Cash                2\n",
       "Curtis              2\n",
       "Stephan             2\n",
       "Pipsy               2\n",
       "Olivia              2\n",
       "Abby                2\n",
       "Kyro                2\n",
       "Wally               2\n",
       "Harold              2\n",
       "Lennon              2\n",
       "Hammond             2\n",
       "Neptune             2\n",
       "Benedict            2\n",
       "Terry               2\n",
       "Django              2\n",
       "Alice               2\n",
       "Jeph                2\n",
       "Coops               2\n",
       "Rocky               2\n",
       "Herald              2\n",
       "Chuckles            2\n",
       "Herm                2\n",
       "Juno                2\n",
       "Fizz                2\n",
       "Sansa               2\n",
       "Eve                 2\n",
       "Jimison             2\n",
       "Klein               2\n",
       "actually            2\n",
       "Elliot              2\n",
       "Chet                2\n",
       "Charles             2\n",
       "Luca                2\n",
       "Kenneth             2\n",
       "Chelsea             2\n",
       "Axel                2\n",
       "Jiminy              2\n",
       "Hobbes              2\n",
       "getting             2\n",
       "Lou                 2\n",
       "Brad                2\n",
       "Baxter              2\n",
       "Watson              2\n",
       "Canela              2\n",
       "Emmy                2\n",
       "Romeo               2\n",
       "Eli                 2\n",
       "Terrance            2\n",
       "Kreg                2\n",
       "Marley              2\n",
       "Atlas               2\n",
       "Dakota              2\n",
       "Calbert             2\n",
       "Finley              2\n",
       "Lilly               2\n",
       "Panda               2\n",
       "Yogi                2\n",
       "Albert              2\n",
       "Gromit              2\n",
       "Sarge               2\n",
       "Quinn               2\n",
       "Frank               2\n",
       "Shaggy              2\n",
       "Smokey              2\n",
       "Chipson             2\n",
       "CeCe                2\n",
       "Ken                 2\n",
       "Lenny               2\n",
       "Pablo               2\n",
       "Herschel            2\n",
       "Sam                 2\n",
       "Baloo               2\n",
       "Crystal             2\n",
       "Rufus               2\n",
       "Benji               2\n",
       "Dash                2\n",
       "Stubert             2\n",
       "Bungalo             2\n",
       "Jackson             2\n",
       "Betty               2\n",
       "Ollie               2\n",
       "Moreton             2\n",
       "Cody                2\n",
       "Albus               2\n",
       "Piper               2\n",
       "Indie               2\n",
       "Leela               2\n",
       "Aspen               2\n",
       "Lincoln             2\n",
       "Jesse               2\n",
       "Hunter              2\n",
       "Ozzy                2\n",
       "Pickles             2\n",
       "Penelope            2\n",
       "Titan               2\n",
       "Keith               2\n",
       "Sugar               2\n",
       "Churlie             2\n",
       "Linda               2\n",
       "Blitz               2\n",
       "Rocco               2\n",
       "Layla               2\n",
       "Bisquick            2\n",
       "Anakin              2\n",
       "Misty               2\n",
       "Bubbles             2\n",
       "Belle               2\n",
       "Bell                2\n",
       "Percy               2\n",
       "Solomon             2\n",
       "Levi                2\n",
       "Remington           2\n",
       "Happy               2\n",
       "Rubio               2\n",
       "Nollie              2\n",
       "Gidget              2\n",
       "Paull               2\n",
       "Hurley              2\n",
       "Atticus             2\n",
       "Cupcake             2\n",
       "Jamesy              2\n",
       "Chompsky            2\n",
       "Davey               2\n",
       "Logan               2\n",
       "Harper              2\n",
       "Mattie              2\n",
       "Timison             2\n",
       "Hercules            2\n",
       "Seamus              2\n",
       "not                 2\n",
       "Rizzy               2\n",
       "Carly               2\n",
       "Astrid              2\n",
       "Mister              2\n",
       "mad                 2\n",
       "Oliviér             2\n",
       "Raymond             2\n",
       "Odie                2\n",
       "Ava                 2\n",
       "Moe                 2\n",
       "Stewie              1\n",
       "Skye                1\n",
       "Walker              1\n",
       "Emanuel             1\n",
       "Miguel              1\n",
       "Shooter             1\n",
       "Pherb               1\n",
       "Lugan               1\n",
       "Mimosa              1\n",
       "Stephanus           1\n",
       "officially          1\n",
       "Kenzie              1\n",
       "Karma               1\n",
       "Binky               1\n",
       "Arya                1\n",
       "Barclay             1\n",
       "Loomis              1\n",
       "Zeus                1\n",
       "Ed                  1\n",
       "Pumpkin             1\n",
       "Snickers            1\n",
       "Marvin              1\n",
       "Bert                1\n",
       "Mitch               1\n",
       "Sephie              1\n",
       "Peanut              1\n",
       "Wesley              1\n",
       "Ace                 1\n",
       "Randall             1\n",
       "Snicku              1\n",
       "such                1\n",
       "Jeffri              1\n",
       "old                 1\n",
       "Lassie              1\n",
       "Pawnd               1\n",
       "Jessifer            1\n",
       "Ralphy              1\n",
       "Mary                1\n",
       "Lilah               1\n",
       "Stormy              1\n",
       "Tino                1\n",
       "Eriq                1\n",
       "Kingsley            1\n",
       "Pete                1\n",
       "Maxwell             1\n",
       "Rodman              1\n",
       "Marq                1\n",
       "Beebop              1\n",
       "Tyrus               1\n",
       "Tedrick             1\n",
       "Spencer             1\n",
       "Koko                1\n",
       "Mark                1\n",
       "Yoda                1\n",
       "River               1\n",
       "Jangle              1\n",
       "Taco                1\n",
       "Ralphé              1\n",
       "Ambrose             1\n",
       "Mookie              1\n",
       "Chesterson          1\n",
       "Kobe                1\n",
       "Grizz               1\n",
       "Shawwn              1\n",
       "Godi                1\n",
       "Sonny               1\n",
       "Odin                1\n",
       "Carll               1\n",
       "Obi                 1\n",
       "Chevy               1\n",
       "Liam                1\n",
       "Luther              1\n",
       "Spanky              1\n",
       "Lorelei             1\n",
       "Remy                1\n",
       "Brandy              1\n",
       "Akumi               1\n",
       "Jiminus             1\n",
       "Dylan               1\n",
       "Pip                 1\n",
       "Suki                1\n",
       "Shelby              1\n",
       "Milky               1\n",
       "Emma                1\n",
       "Philippe            1\n",
       "Crimson             1\n",
       "Pinot               1\n",
       "Combo               1\n",
       "Jeffrie             1\n",
       "Longfellow          1\n",
       "Augie               1\n",
       "Adele               1\n",
       "Mabel               1\n",
       "Bruiser             1\n",
       "Fwed                1\n",
       "Sandra              1\n",
       "Wiggles             1\n",
       "Edmund              1\n",
       "Lilli               1\n",
       "Georgie             1\n",
       "Gustav              1\n",
       "Tove                1\n",
       "Arlen               1\n",
       "Moofasa             1\n",
       "Jeb                 1\n",
       "Miley               1\n",
       "Aubie               1\n",
       "infuriating         1\n",
       "Kramer              1\n",
       "Bones               1\n",
       "Brutus              1\n",
       "Grady               1\n",
       "Sailer              1\n",
       "Bobbay              1\n",
       "Tebow               1\n",
       "Rambo               1\n",
       "Dex                 1\n",
       "Wishes              1\n",
       "Bronte              1\n",
       "Harlso              1\n",
       "Wafer               1\n",
       "my                  1\n",
       "Ginger              1\n",
       "Staniel             1\n",
       "Carbon              1\n",
       "Norman              1\n",
       "Mona                1\n",
       "Alexander           1\n",
       "Shadoe              1\n",
       "all                 1\n",
       "Lili                1\n",
       "Clifford            1\n",
       "Traviss             1\n",
       "Ronduh              1\n",
       "Willow              1\n",
       "Bloo                1\n",
       "Rumpole             1\n",
       "Burt                1\n",
       "Sprinkles           1\n",
       "Pilot               1\n",
       "Schnitzel           1\n",
       "Todo                1\n",
       "Meera               1\n",
       "life                1\n",
       "Maya                1\n",
       "Halo                1\n",
       "Carper              1\n",
       "Darby               1\n",
       "Comet               1\n",
       "Opie                1\n",
       "Murphy              1\n",
       "Tayzie              1\n",
       "Tobi                1\n",
       "Skittle             1\n",
       "Monkey              1\n",
       "Amber               1\n",
       "Franq               1\n",
       "Rascal              1\n",
       "Lulu                1\n",
       "Harnold             1\n",
       "Arnold              1\n",
       "Kayla               1\n",
       "Mya                 1\n",
       "Rorie               1\n",
       "Brownie             1\n",
       "Donny               1\n",
       "Howie               1\n",
       "Alfy                1\n",
       "Toffee              1\n",
       "Cermet              1\n",
       "Dotsy               1\n",
       "Leonard             1\n",
       "Rodney              1\n",
       "Ike                 1\n",
       "Clarq               1\n",
       "Livvie              1\n",
       "Bilbo               1\n",
       "Jareld              1\n",
       "Smiley              1\n",
       "Sparky              1\n",
       "Kane                1\n",
       "Freddery            1\n",
       "Blakely             1\n",
       "Rhino               1\n",
       "Willie              1\n",
       "Grizzwald           1\n",
       "Margo               1\n",
       "Jebberson           1\n",
       "Shnuggles           1\n",
       "Benny               1\n",
       "Leonidas            1\n",
       "Karll               1\n",
       "Nugget              1\n",
       "Sojourner           1\n",
       "Ziva                1\n",
       "Olaf                1\n",
       "Brockly             1\n",
       "Divine              1\n",
       "Chesney             1\n",
       "Winifred            1\n",
       "Callie              1\n",
       "Lucky               1\n",
       "Huxley              1\n",
       "Baron               1\n",
       "Tommy               1\n",
       "Harrison            1\n",
       "Maude               1\n",
       "Glenn               1\n",
       "Lipton              1\n",
       "Shikha              1\n",
       "Brandi              1\n",
       "Chubbs              1\n",
       "Sundance            1\n",
       "Bubba               1\n",
       "Yukon               1\n",
       "Filup               1\n",
       "Snoop               1\n",
       "Reagan              1\n",
       "Kial                1\n",
       "Sweets              1\n",
       "Billy               1\n",
       "Ridley              1\n",
       "Butters             1\n",
       "Dutch               1\n",
       "Chuq                1\n",
       "Maisey              1\n",
       "Terrenth            1\n",
       "Diogi               1\n",
       "Stuart              1\n",
       "Blu                 1\n",
       "Deacon              1\n",
       "Mutt                1\n",
       "Ester               1\n",
       "Ulysses             1\n",
       "Vinnie              1\n",
       "Fabio               1\n",
       "Alejandro           1\n",
       "Brooks              1\n",
       "Rudy                1\n",
       "Dale                1\n",
       "Beckham             1\n",
       "Grizzie             1\n",
       "Michelangelope      1\n",
       "Anna                1\n",
       "Covach              1\n",
       "Bobble              1\n",
       "Jameson             1\n",
       "Jersey              1\n",
       "Creg                1\n",
       "Storkson            1\n",
       "Joey                1\n",
       "Jay                 1\n",
       "Juckson             1\n",
       "Bauer               1\n",
       "Clybe               1\n",
       "Furzey              1\n",
       "Trigger             1\n",
       "Zara                1\n",
       "Bode                1\n",
       "Tuck                1\n",
       "Reptar              1\n",
       "Jonah               1\n",
       "Jessiga             1\n",
       "Sunshine            1\n",
       "Tom                 1\n",
       "Hector              1\n",
       "Tedders             1\n",
       "Keet                1\n",
       "Jazz                1\n",
       "Chaz                1\n",
       "Theo                1\n",
       "Rooney              1\n",
       "Sage                1\n",
       "Horace              1\n",
       "Flash               1\n",
       "Tess                1\n",
       "Izzy                1\n",
       "Jeremy              1\n",
       "Sweet               1\n",
       "Venti               1\n",
       "Birf                1\n",
       "Darrel              1\n",
       "Holly               1\n",
       "Marty               1\n",
       "Hall                1\n",
       "Jaycob              1\n",
       "Timmy               1\n",
       "Tito                1\n",
       "General             1\n",
       "Beya                1\n",
       "JD                  1\n",
       "Kawhi               1\n",
       "Ferg                1\n",
       "Rey                 1\n",
       "Lambeau             1\n",
       "Gert                1\n",
       "Steve               1\n",
       "Kona                1\n",
       "Kody                1\n",
       "Bradlay             1\n",
       "Patch               1\n",
       "Dallas              1\n",
       "Apollo              1\n",
       "Poppy               1\n",
       "Lolo                1\n",
       "Sprout              1\n",
       "Striker             1\n",
       "Kara                1\n",
       "Dewey               1\n",
       "Sid                 1\n",
       "Dietrich            1\n",
       "Ronnie              1\n",
       "Zeek                1\n",
       "Einstein            1\n",
       "Crouton             1\n",
       "Aja                 1\n",
       "Travis              1\n",
       "Christoper          1\n",
       "Angel               1\n",
       "Ron                 1\n",
       "DayZ                1\n",
       "Kollin              1\n",
       "Batdog              1\n",
       "Beemo               1\n",
       "Blue                1\n",
       "Monty               1\n",
       "Bradley             1\n",
       "Bayley              1\n",
       "Carter              1\n",
       "Jordy               1\n",
       "Dwight              1\n",
       "Buckley             1\n",
       "Geno                1\n",
       "Genevieve           1\n",
       "Meatball            1\n",
       "Malikai             1\n",
       "Chloe               1\n",
       "Crawford            1\n",
       "Bodie               1\n",
       "Pippin              1\n",
       "Antony              1\n",
       "Clyde               1\n",
       "Rontu               1\n",
       "Tiger               1\n",
       "Bertson             1\n",
       "Nimbus              1\n",
       "Caryl               1\n",
       "Molly               1\n",
       "Fynn                1\n",
       "Major               1\n",
       "Stella              1\n",
       "Jarod               1\n",
       "Gabby               1\n",
       "Trevith             1\n",
       "Bobby               1\n",
       "Aiden               1\n",
       "Roscoe              1\n",
       "Farfle              1\n",
       "Kanu                1\n",
       "Ember               1\n",
       "Amélie              1\n",
       "Brat                1\n",
       "Berkeley            1\n",
       "Scott               1\n",
       "Iggy                1\n",
       "Brian               1\n",
       "Clarkus             1\n",
       "Sailor              1\n",
       "Evy                 1\n",
       "Mason               1\n",
       "Cuddles             1\n",
       "Rufio               1\n",
       "Arlo                1\n",
       "Buddah              1\n",
       "Dot                 1\n",
       "Jennifur            1\n",
       "Lacy                1\n",
       "Barry               1\n",
       "his                 1\n",
       "Cecil               1\n",
       "Spark               1\n",
       "Mike                1\n",
       "Duddles             1\n",
       "Kevon               1\n",
       "Tassy               1\n",
       "Lizzie              1\n",
       "Ralpher             1\n",
       "Timofy              1\n",
       "Gilbert             1\n",
       "Cal                 1\n",
       "Kellogg             1\n",
       "Lucia               1\n",
       "Ralphie             1\n",
       "Lance               1\n",
       "O                   1\n",
       "Andru               1\n",
       "Mingus              1\n",
       "Shiloh              1\n",
       "Damon               1\n",
       "Fletcher            1\n",
       "Barney              1\n",
       "Vince               1\n",
       "Willy               1\n",
       "William             1\n",
       "Siba                1\n",
       "Griswold            1\n",
       "Devón               1\n",
       "Jed                 1\n",
       "Mojo                1\n",
       "Pepper              1\n",
       "Oreo                1\n",
       "Stu                 1\n",
       "Gordon              1\n",
       "Ashleigh            1\n",
       "Kota                1\n",
       "Chadrick            1\n",
       "Brudge              1\n",
       "Ozzie               1\n",
       "Jackie              1\n",
       "Hubertson           1\n",
       "Jockson             1\n",
       "Pavlov              1\n",
       "Banditt             1\n",
       "Kallie              1\n",
       "Rolf                1\n",
       "Schnozz             1\n",
       "Brandonald          1\n",
       "Sobe                1\n",
       "Willem              1\n",
       "Asher               1\n",
       "Gunner              1\n",
       "Ben                 1\n",
       "Hazel               1\n",
       "Teddy               1\n",
       "Jarvis              1\n",
       "Thor                1\n",
       "Iroh                1\n",
       "Napolean            1\n",
       "Henry               1\n",
       "Naphaniel           1\n",
       "Raphael             1\n",
       "Pubert              1\n",
       "Boots               1\n",
       "Monster             1\n",
       "Orion               1\n",
       "Tater               1\n",
       "Bloop               1\n",
       "Finnegus            1\n",
       "Goose               1\n",
       "Stark               1\n",
       "Dixie               1\n",
       "Josep               1\n",
       "Heinrich            1\n",
       "Ito                 1\n",
       "Aldrick             1\n",
       "Harry               1\n",
       "Obie                1\n",
       "Katie               1\n",
       "Blipson             1\n",
       "Bonaparte           1\n",
       "Aqua                1\n",
       "Eazy                1\n",
       "Linus               1\n",
       "Gòrdón              1\n",
       "Bookstore           1\n",
       "Nigel               1\n",
       "Mairi               1\n",
       "Remus               1\n",
       "Al                  1\n",
       "Socks               1\n",
       "Durg                1\n",
       "Tessa               1\n",
       "Andy                1\n",
       "Amy                 1\n",
       "Trip                1\n",
       "Geoff               1\n",
       "Ricky               1\n",
       "Bluebert            1\n",
       "Kendall             1\n",
       "Petrick             1\n",
       "Lenox               1\n",
       "Simba               1\n",
       "Doobert             1\n",
       "Edd                 1\n",
       "Cannon              1\n",
       "Craig               1\n",
       "Joshwa              1\n",
       "Fiji                1\n",
       "Sky                 1\n",
       "Eevee               1\n",
       "Coleman             1\n",
       "Chef                1\n",
       "Flurpson            1\n",
       "Noah                1\n",
       "Sora                1\n",
       "Herb                1\n",
       "by                  1\n",
       "Fillup              1\n",
       "Champ               1\n",
       "Billl               1\n",
       "Ralf                1\n",
       "space               1\n",
       "Berb                1\n",
       "Kathmandu           1\n",
       "Humphrey            1\n",
       "Mo                  1\n",
       "Swagger             1\n",
       "Gin                 1\n",
       "Charl               1\n",
       "Kloey               1\n",
       "Rumble              1\n",
       "Maks                1\n",
       "Charleson           1\n",
       "Goliath             1\n",
       "Jimbo               1\n",
       "Stefan              1\n",
       "Gerbald             1\n",
       "Julio               1\n",
       "Pancake             1\n",
       "Alexanderson        1\n",
       "Karl                1\n",
       "Superpup            1\n",
       "Mosby               1\n",
       "light               1\n",
       "Godzilla            1\n",
       "Biden               1\n",
       "Derby               1\n",
       "Hamrick             1\n",
       "Ralphus             1\n",
       "Tripp               1\n",
       "Robin               1\n",
       "Gustaf              1\n",
       "Bruno               1\n",
       "Coopson             1\n",
       "Jomathan            1\n",
       "Zuzu                1\n",
       "Link                1\n",
       "Hermione            1\n",
       "Rover               1\n",
       "Cedrick             1\n",
       "Hero                1\n",
       "Fido                1\n",
       "Mac                 1\n",
       "Julius              1\n",
       "Dunkin              1\n",
       "Strudel             1\n",
       "Ralphson            1\n",
       "Kuyu                1\n",
       "Brady               1\n",
       "Glacier             1\n",
       "Daniel              1\n",
       "incredibly          1\n",
       "Jerome              1\n",
       "Dobby               1\n",
       "Kulet               1\n",
       "Corey               1\n",
       "Vinscent            1\n",
       "Mack                1\n",
       "Darla               1\n",
       "Ole                 1\n",
       "Banjo               1\n",
       "Jim                 1\n",
       "Puff                1\n",
       "Dudley              1\n",
       "Cupid               1\n",
       "Newt                1\n",
       "Samsom              1\n",
       "Nico                1\n",
       "Skittles            1\n",
       "Dante               1\n",
       "Snoopy              1\n",
       "Taz                 1\n",
       "Richie              1\n",
       "Ivar                1\n",
       "Scruffers           1\n",
       "Pupcasso            1\n",
       "Cilantro            1\n",
       "Tuco                1\n",
       "Eleanor             1\n",
       "Kaia                1\n",
       "Bobb                1\n",
       "Autumn              1\n",
       "Ruffles             1\n",
       "Dido                1\n",
       "unacceptable        1\n",
       "Jo                  1\n",
       "Kirk                1\n",
       "Mollie              1\n",
       "Shakespeare         1\n",
       "Dook                1\n",
       "Zoe                 1\n",
       "Colin               1\n",
       "Boston              1\n",
       "Mauve               1\n",
       "Rueben              1\n",
       "Tupawc              1\n",
       "Danny               1\n",
       "Severus             1\n",
       "Tango               1\n",
       "Rilo                1\n",
       "Hanz                1\n",
       "Laela               1\n",
       "Saydee              1\n",
       "BeBe                1\n",
       "Vixen               1\n",
       "Anthony             1\n",
       "Jazzy               1\n",
       "Alf                 1\n",
       "Chase               1\n",
       "this                1\n",
       "Tanner              1\n",
       "Eugene              1\n",
       "DonDon              1\n",
       "Timber              1\n",
       "Ralph               1\n",
       "Erik                1\n",
       "Oddie               1\n",
       "Edgar               1\n",
       "Rizzo               1\n",
       "Cheryl              1\n",
       "Acro                1\n",
       "Huck                1\n",
       "Perry               1\n",
       "Tug                 1\n",
       "Chuck               1\n",
       "Nida                1\n",
       "Cora                1\n",
       "Harvey              1\n",
       "Claude              1\n",
       "Florence            1\n",
       "Millie              1\n",
       "Tycho               1\n",
       "Tilly               1\n",
       "Lupe                1\n",
       "Cleopatricia        1\n",
       "Strider             1\n",
       "Bowie               1\n",
       "Pluto               1\n",
       "Blanket             1\n",
       "Duchess             1\n",
       "Tonks               1\n",
       "Rinna               1\n",
       "Kaiya               1\n",
       "Zooey               1\n",
       "Ebby                1\n",
       "Torque              1\n",
       "Marlee              1\n",
       "Frönq               1\n",
       "Crumpet             1\n",
       "Jaspers             1\n",
       "Enchilada           1\n",
       "Jett                1\n",
       "Cheesy              1\n",
       "Rose                1\n",
       "Dug                 1\n",
       "Emmie               1\n",
       "Grey                1\n",
       "Lillie              1\n",
       "Sully               1\n",
       "Rupert              1\n",
       "Noosh               1\n",
       "Laika               1\n",
       "Name: name, dtype: int64"
      ]
     },
     "execution_count": 14,
     "metadata": {},
     "output_type": "execute_result"
    }
   ],
   "source": [
    "# to check out the name column and to make pandas display the entire result\n",
    "pd.set_option(\"display.max_rows\", None)\n",
    "enhanced_df.name.value_counts()"
   ]
  },
  {
   "cell_type": "code",
   "execution_count": 15,
   "metadata": {},
   "outputs": [
    {
     "data": {
      "text/plain": [
       "10     2333\n",
       "11        3\n",
       "50        3\n",
       "80        2\n",
       "20        2\n",
       "2         1\n",
       "16        1\n",
       "40        1\n",
       "70        1\n",
       "15        1\n",
       "90        1\n",
       "110       1\n",
       "120       1\n",
       "130       1\n",
       "150       1\n",
       "170       1\n",
       "7         1\n",
       "0         1\n",
       "Name: rating_denominator, dtype: int64"
      ]
     },
     "execution_count": 15,
     "metadata": {},
     "output_type": "execute_result"
    }
   ],
   "source": [
    "# to confirm if the data has differring denominators\n",
    "enhanced_df.rating_denominator.value_counts()"
   ]
  },
  {
   "cell_type": "code",
   "execution_count": 16,
   "metadata": {},
   "outputs": [
    {
     "data": {
      "text/plain": [
       "12      558\n",
       "11      464\n",
       "10      461\n",
       "13      351\n",
       "9       158\n",
       "8       102\n",
       "7        55\n",
       "14       54\n",
       "5        37\n",
       "6        32\n",
       "3        19\n",
       "4        17\n",
       "1         9\n",
       "2         9\n",
       "420       2\n",
       "0         2\n",
       "15        2\n",
       "75        2\n",
       "80        1\n",
       "20        1\n",
       "24        1\n",
       "26        1\n",
       "44        1\n",
       "50        1\n",
       "60        1\n",
       "165       1\n",
       "84        1\n",
       "88        1\n",
       "144       1\n",
       "182       1\n",
       "143       1\n",
       "666       1\n",
       "960       1\n",
       "1776      1\n",
       "17        1\n",
       "27        1\n",
       "45        1\n",
       "99        1\n",
       "121       1\n",
       "204       1\n",
       "Name: rating_numerator, dtype: int64"
      ]
     },
     "execution_count": 16,
     "metadata": {},
     "output_type": "execute_result"
    }
   ],
   "source": [
    "# to check out the numerators\n",
    "enhanced_df.rating_numerator.value_counts()"
   ]
  },
  {
   "cell_type": "code",
   "execution_count": 17,
   "metadata": {},
   "outputs": [
    {
     "data": {
      "text/plain": [
       "59"
      ]
     },
     "execution_count": 17,
     "metadata": {},
     "output_type": "execute_result"
    }
   ],
   "source": [
    "# determining the total missing expanded_urls\n",
    "enhanced_df['expanded_urls'].isnull().sum()"
   ]
  },
  {
   "cell_type": "code",
   "execution_count": 18,
   "metadata": {},
   "outputs": [],
   "source": [
    "# creating a dataframe which contains the various dog stages\n",
    "df = enhanced_df.loc[:, \"doggo\":]"
   ]
  },
  {
   "cell_type": "code",
   "execution_count": 19,
   "metadata": {},
   "outputs": [
    {
     "name": "stdout",
     "output_type": "stream",
     "text": [
      "Counter({'None': 2259, 'doggo': 97}) Counter({'None': 2346, 'floofer': 10}) Counter({'None': 2099, 'pupper': 257}) Counter({'None': 2326, 'puppo': 30})\n"
     ]
    }
   ],
   "source": [
    "# using the collections library to count the amount of unique values in the entire dataframe \n",
    "from collections import Counter\n",
    "def counting(column):\n",
    "    counts = Counter(column)\n",
    "    return counts\n",
    "print(counting(df['doggo']),counting(df['floofer']),counting(df['pupper']),counting(df['puppo']))"
   ]
  },
  {
   "cell_type": "code",
   "execution_count": 20,
   "metadata": {},
   "outputs": [
    {
     "name": "stdout",
     "output_type": "stream",
     "text": [
      "there is 1 row which contains data for both doggo and floofer stage\n",
      "there is 1 row which contains data for both doggo and puppo stage\n",
      "there is 12 rows which contains data for both doggo and pupper stage\n"
     ]
    }
   ],
   "source": [
    "# checking to see if any tweet_id contains data for more than one dog stage\n",
    "print('there is {} row which contains data for both doggo and floofer stage'.format(len(df[(df.doggo != 'None') & (df.floofer != 'None')])))\n",
    "print('there is {} row which contains data for both doggo and puppo stage'.format(len(df[(df.doggo != 'None') & (df.puppo != 'None')])))\n",
    "print('there is {} rows which contains data for both doggo and pupper stage'.format(len(df[(df.doggo != 'None') & (df.pupper != 'None')])))"
   ]
  },
  {
   "cell_type": "markdown",
   "metadata": {},
   "source": [
    "## The image predictions data table"
   ]
  },
  {
   "cell_type": "code",
   "execution_count": 21,
   "metadata": {},
   "outputs": [
    {
     "data": {
      "text/html": [
       "<div>\n",
       "<style scoped>\n",
       "    .dataframe tbody tr th:only-of-type {\n",
       "        vertical-align: middle;\n",
       "    }\n",
       "\n",
       "    .dataframe tbody tr th {\n",
       "        vertical-align: top;\n",
       "    }\n",
       "\n",
       "    .dataframe thead th {\n",
       "        text-align: right;\n",
       "    }\n",
       "</style>\n",
       "<table border=\"1\" class=\"dataframe\">\n",
       "  <thead>\n",
       "    <tr style=\"text-align: right;\">\n",
       "      <th></th>\n",
       "      <th>tweet_id</th>\n",
       "      <th>jpg_url</th>\n",
       "      <th>img_num</th>\n",
       "      <th>p1</th>\n",
       "      <th>p1_conf</th>\n",
       "      <th>p1_dog</th>\n",
       "      <th>p2</th>\n",
       "      <th>p2_conf</th>\n",
       "      <th>p2_dog</th>\n",
       "      <th>p3</th>\n",
       "      <th>p3_conf</th>\n",
       "      <th>p3_dog</th>\n",
       "    </tr>\n",
       "  </thead>\n",
       "  <tbody>\n",
       "    <tr>\n",
       "      <td>0</td>\n",
       "      <td>666020888022790149</td>\n",
       "      <td>https://pbs.twimg.com/media/CT4udn0WwAA0aMy.jpg</td>\n",
       "      <td>1</td>\n",
       "      <td>Welsh_springer_spaniel</td>\n",
       "      <td>0.465074</td>\n",
       "      <td>True</td>\n",
       "      <td>collie</td>\n",
       "      <td>0.156665</td>\n",
       "      <td>True</td>\n",
       "      <td>Shetland_sheepdog</td>\n",
       "      <td>0.061428</td>\n",
       "      <td>True</td>\n",
       "    </tr>\n",
       "    <tr>\n",
       "      <td>1</td>\n",
       "      <td>666029285002620928</td>\n",
       "      <td>https://pbs.twimg.com/media/CT42GRgUYAA5iDo.jpg</td>\n",
       "      <td>1</td>\n",
       "      <td>redbone</td>\n",
       "      <td>0.506826</td>\n",
       "      <td>True</td>\n",
       "      <td>miniature_pinscher</td>\n",
       "      <td>0.074192</td>\n",
       "      <td>True</td>\n",
       "      <td>Rhodesian_ridgeback</td>\n",
       "      <td>0.072010</td>\n",
       "      <td>True</td>\n",
       "    </tr>\n",
       "    <tr>\n",
       "      <td>2</td>\n",
       "      <td>666033412701032449</td>\n",
       "      <td>https://pbs.twimg.com/media/CT4521TWwAEvMyu.jpg</td>\n",
       "      <td>1</td>\n",
       "      <td>German_shepherd</td>\n",
       "      <td>0.596461</td>\n",
       "      <td>True</td>\n",
       "      <td>malinois</td>\n",
       "      <td>0.138584</td>\n",
       "      <td>True</td>\n",
       "      <td>bloodhound</td>\n",
       "      <td>0.116197</td>\n",
       "      <td>True</td>\n",
       "    </tr>\n",
       "  </tbody>\n",
       "</table>\n",
       "</div>"
      ],
      "text/plain": [
       "             tweet_id                                          jpg_url  \\\n",
       "0  666020888022790149  https://pbs.twimg.com/media/CT4udn0WwAA0aMy.jpg   \n",
       "1  666029285002620928  https://pbs.twimg.com/media/CT42GRgUYAA5iDo.jpg   \n",
       "2  666033412701032449  https://pbs.twimg.com/media/CT4521TWwAEvMyu.jpg   \n",
       "\n",
       "   img_num                      p1   p1_conf  p1_dog                  p2  \\\n",
       "0        1  Welsh_springer_spaniel  0.465074    True              collie   \n",
       "1        1                 redbone  0.506826    True  miniature_pinscher   \n",
       "2        1         German_shepherd  0.596461    True            malinois   \n",
       "\n",
       "    p2_conf  p2_dog                   p3   p3_conf  p3_dog  \n",
       "0  0.156665    True    Shetland_sheepdog  0.061428    True  \n",
       "1  0.074192    True  Rhodesian_ridgeback  0.072010    True  \n",
       "2  0.138584    True           bloodhound  0.116197    True  "
      ]
     },
     "execution_count": 21,
     "metadata": {},
     "output_type": "execute_result"
    }
   ],
   "source": [
    "image_df.head(3)"
   ]
  },
  {
   "cell_type": "markdown",
   "metadata": {},
   "source": [
    "`image_df` (tweet image predictions) columns:\n",
    "- **tweet_id**: the unique identifier for each tweet\n",
    "- **jpg_url**: dog's image URL\n",
    "- **img_num**: the image number that corresponded to the most confident prediction (numbered 1 to 4 since tweets can have up to four images)\n",
    "- **p1**: algorithm's #1 prediction for the image in the tweet\n",
    "- **p1_conf**: how confident the algorithm is in its #1 prediction\n",
    "- **p1_dog**: whether or not the #1 prediction is a breed of dog\n",
    "- **p2**: algorithm's #2 prediction for the image in the tweet\n",
    "- **p2_conf**: how confident the algorithm is in its #2 prediction\n",
    "- **p2_dog**: whether or not the #2 prediction is a breed of dog\n",
    "- **p3**: algorithm's #3 prediction for the image in the tweet\n",
    "- **p3_conf**: how confident the algorithm is in its #3 prediction\n",
    "- **p3_dog**: whether or not the #3 prediction is a breed of dog"
   ]
  },
  {
   "cell_type": "code",
   "execution_count": 22,
   "metadata": {},
   "outputs": [
    {
     "name": "stdout",
     "output_type": "stream",
     "text": [
      "<class 'pandas.core.frame.DataFrame'>\n",
      "RangeIndex: 2075 entries, 0 to 2074\n",
      "Data columns (total 12 columns):\n",
      "tweet_id    2075 non-null int64\n",
      "jpg_url     2075 non-null object\n",
      "img_num     2075 non-null int64\n",
      "p1          2075 non-null object\n",
      "p1_conf     2075 non-null float64\n",
      "p1_dog      2075 non-null bool\n",
      "p2          2075 non-null object\n",
      "p2_conf     2075 non-null float64\n",
      "p2_dog      2075 non-null bool\n",
      "p3          2075 non-null object\n",
      "p3_conf     2075 non-null float64\n",
      "p3_dog      2075 non-null bool\n",
      "dtypes: bool(3), float64(3), int64(2), object(4)\n",
      "memory usage: 152.1+ KB\n"
     ]
    }
   ],
   "source": [
    "image_df.info()"
   ]
  },
  {
   "cell_type": "code",
   "execution_count": 23,
   "metadata": {},
   "outputs": [
    {
     "data": {
      "text/plain": [
       "0"
      ]
     },
     "execution_count": 23,
     "metadata": {},
     "output_type": "execute_result"
    }
   ],
   "source": [
    "sum(image_df.duplicated())"
   ]
  },
  {
   "cell_type": "code",
   "execution_count": 24,
   "metadata": {},
   "outputs": [
    {
     "data": {
      "text/html": [
       "<div>\n",
       "<style scoped>\n",
       "    .dataframe tbody tr th:only-of-type {\n",
       "        vertical-align: middle;\n",
       "    }\n",
       "\n",
       "    .dataframe tbody tr th {\n",
       "        vertical-align: top;\n",
       "    }\n",
       "\n",
       "    .dataframe thead th {\n",
       "        text-align: right;\n",
       "    }\n",
       "</style>\n",
       "<table border=\"1\" class=\"dataframe\">\n",
       "  <thead>\n",
       "    <tr style=\"text-align: right;\">\n",
       "      <th></th>\n",
       "      <th>tweet_id</th>\n",
       "      <th>retweet_count</th>\n",
       "      <th>favorite_count</th>\n",
       "      <th>display_text_range</th>\n",
       "    </tr>\n",
       "  </thead>\n",
       "  <tbody>\n",
       "    <tr>\n",
       "      <td>0</td>\n",
       "      <td>892420643555336193</td>\n",
       "      <td>8853</td>\n",
       "      <td>39467</td>\n",
       "      <td>[0, 85]</td>\n",
       "    </tr>\n",
       "    <tr>\n",
       "      <td>1</td>\n",
       "      <td>892177421306343426</td>\n",
       "      <td>6514</td>\n",
       "      <td>33819</td>\n",
       "      <td>[0, 138]</td>\n",
       "    </tr>\n",
       "    <tr>\n",
       "      <td>2</td>\n",
       "      <td>891815181378084864</td>\n",
       "      <td>4328</td>\n",
       "      <td>25461</td>\n",
       "      <td>[0, 121]</td>\n",
       "    </tr>\n",
       "  </tbody>\n",
       "</table>\n",
       "</div>"
      ],
      "text/plain": [
       "             tweet_id  retweet_count  favorite_count display_text_range\n",
       "0  892420643555336193           8853           39467            [0, 85]\n",
       "1  892177421306343426           6514           33819           [0, 138]\n",
       "2  891815181378084864           4328           25461           [0, 121]"
      ]
     },
     "execution_count": 24,
     "metadata": {},
     "output_type": "execute_result"
    }
   ],
   "source": [
    "tweet_df.head(3)"
   ]
  },
  {
   "cell_type": "markdown",
   "metadata": {},
   "source": [
    "`tweet_df` (tweet status) columns:\n",
    "- **tweet_id**: the unique identifier for each tweet\n",
    "- **retweet_count**: number of times this Tweet has been retweeted\n",
    "- **favorite_count**: indicates approximately how many times this Tweet has been liked by Twitter users\n",
    "- **display_text_range**: an array of two unicode code point indices, identifying the inclusive start and exclusive end of the displayable content of the Tweet"
   ]
  },
  {
   "cell_type": "code",
   "execution_count": 25,
   "metadata": {},
   "outputs": [
    {
     "name": "stdout",
     "output_type": "stream",
     "text": [
      "<class 'pandas.core.frame.DataFrame'>\n",
      "RangeIndex: 2354 entries, 0 to 2353\n",
      "Data columns (total 4 columns):\n",
      "tweet_id              2354 non-null int64\n",
      "retweet_count         2354 non-null int64\n",
      "favorite_count        2354 non-null int64\n",
      "display_text_range    2354 non-null object\n",
      "dtypes: int64(3), object(1)\n",
      "memory usage: 73.7+ KB\n"
     ]
    }
   ],
   "source": [
    "tweet_df.info()"
   ]
  },
  {
   "cell_type": "code",
   "execution_count": 26,
   "metadata": {},
   "outputs": [
    {
     "data": {
      "text/plain": [
       "0"
      ]
     },
     "execution_count": 26,
     "metadata": {},
     "output_type": "execute_result"
    }
   ],
   "source": [
    "sum(tweet_df.tweet_id.duplicated())"
   ]
  },
  {
   "cell_type": "code",
   "execution_count": 27,
   "metadata": {},
   "outputs": [
    {
     "name": "stdout",
     "output_type": "stream",
     "text": [
      "the number of entries in the three tables are, tweet_df has 2354, enhanced_df has 2356, image has 2075\n"
     ]
    }
   ],
   "source": [
    "print('the number of entries in the three tables are, tweet_df has {}, enhanced_df has {}, image has {}'.format(len(tweet_df),len(enhanced_df),len(image_df)))"
   ]
  },
  {
   "cell_type": "code",
   "execution_count": 28,
   "metadata": {},
   "outputs": [
    {
     "data": {
      "text/plain": [
       "(281, 2, 281)"
      ]
     },
     "execution_count": 28,
     "metadata": {},
     "output_type": "execute_result"
    }
   ],
   "source": [
    "# the number of missing twitter ids in the tweet_df table and in the\n",
    "# image table, also in tweet_df but not in image but are in the enhanced_df table are \n",
    "len(enhanced_df[~enhanced_df.tweet_id.isin(image_df.tweet_id)]),len(enhanced_df[~enhanced_df.tweet_id.isin(tweet_df.tweet_id)]),len(tweet_df[~tweet_df.tweet_id.isin(image_df.tweet_id)])"
   ]
  },
  {
   "cell_type": "markdown",
   "metadata": {},
   "source": [
    "#### this shows that there are some tweet_ids present in enhanced_df table but are not in the image table but while there are two missing tweet_ids in the tweet_df table which is present in the enhanced_df, the image table still has the same missing ids in the tweet_df"
   ]
  },
  {
   "cell_type": "markdown",
   "metadata": {},
   "source": [
    "# Quality issues\n",
    "##### `enhanced_df` (Twitter archive) table\n",
    "- ID column is in int format instead of str\n",
    "- many *tweet_id*(s) of `enhanced_df` table are missing in `image` (image predictions) and some in tweet_df tables\n",
    "- Timestamp column in enhanced_twitter is in object format instead of datetime format \n",
    "- unnecessary html tags in *source* column e.g. `<a href=\"\"http://twitter.com/download/iphone\"\" rel=\"\"nofollow\"\">Twitter for iPhone</a>`can be replaced with Twitter for iphone\n",
    "- the text column contains some links which are not needed\n",
    "- *rating_denominator* column has values greater than 10, which is the most prevalent, so reducing this so that most denominators are 10 for easy analysis\n",
    "- erroneous dog names which are unlikely (e.g. a, an, actually, by)\n",
    "- some tweet_id contain data which are in more than one dog stage \n",
    "- null values in the columns, which will be adjusted as the cleaning progresses\n",
    "\n",
    "##### `image_df` (image_predictions) table\n",
    "- ID column in int format instead of str"
   ]
  },
  {
   "cell_type": "markdown",
   "metadata": {},
   "source": [
    "# Tidiness issues\n",
    "- some columns from the image_df(image predictions) and the tweet_df(tweet status) table should be merged into the enhanced_df table to better analyze the data e.g. the p1 column in image_df, retweet_count and favorite_count column in tweet_df table\n",
    "- the doggo, floofer, pupper and puppo columns in enhanced_df table should be merged into one column named \"dog_stage\"\n",
    "- some columns in the enhanced_df table are not needed for the analysis and should be dropped e.g  retweeted_status_id, retweeted_status_user_id and retweeted_status_timestamp columns etc."
   ]
  },
  {
   "cell_type": "markdown",
   "metadata": {},
   "source": [
    "## Cleaning Data"
   ]
  },
  {
   "cell_type": "code",
   "execution_count": 29,
   "metadata": {},
   "outputs": [],
   "source": [
    "# first taking a copy of enhanced_df on which the cleaning tasks will be carried out\n",
    "clean_df = enhanced_df.copy()\n",
    "img_clean=image_df.copy()\n",
    "tweet_clean=tweet_df.copy()"
   ]
  },
  {
   "cell_type": "markdown",
   "metadata": {},
   "source": [
    "## Quality\n",
    "\n",
    "ID columns in the three dataframe are in int format instead of str"
   ]
  },
  {
   "cell_type": "markdown",
   "metadata": {},
   "source": [
    "#### *Define*\n",
    "\n",
    "convert the tweet_id column to str"
   ]
  },
  {
   "cell_type": "markdown",
   "metadata": {},
   "source": [
    "#### *Code*"
   ]
  },
  {
   "cell_type": "code",
   "execution_count": 30,
   "metadata": {},
   "outputs": [],
   "source": [
    "clean_df.tweet_id = clean_df.tweet_id.astype(str)\n",
    "img_clean.tweet_id = img_clean.tweet_id.astype(str)\n",
    "tweet_clean.tweet_id = tweet_clean.tweet_id.astype(str)"
   ]
  },
  {
   "cell_type": "markdown",
   "metadata": {},
   "source": [
    "#### *Test*"
   ]
  },
  {
   "cell_type": "code",
   "execution_count": 31,
   "metadata": {},
   "outputs": [
    {
     "data": {
      "text/plain": [
       "(dtype('O'), dtype('O'), dtype('O'))"
      ]
     },
     "execution_count": 31,
     "metadata": {},
     "output_type": "execute_result"
    }
   ],
   "source": [
    "clean_df.tweet_id.dtype, img_clean.tweet_id.dtype, tweet_clean.tweet_id.dtype"
   ]
  },
  {
   "cell_type": "markdown",
   "metadata": {},
   "source": [
    "this shows that it has being converted to the object format"
   ]
  },
  {
   "cell_type": "markdown",
   "metadata": {},
   "source": [
    "#### *Define*\n",
    "keeeping only the records whose tweet_ids exists in image table and the tweet_df table "
   ]
  },
  {
   "cell_type": "markdown",
   "metadata": {},
   "source": [
    "*code*"
   ]
  },
  {
   "cell_type": "code",
   "execution_count": 32,
   "metadata": {},
   "outputs": [],
   "source": [
    "clean_df = clean_df[clean_df.tweet_id.isin(img_clean.tweet_id)]"
   ]
  },
  {
   "cell_type": "code",
   "execution_count": 33,
   "metadata": {},
   "outputs": [],
   "source": [
    "clean_df =clean_df[clean_df.tweet_id.isin(tweet_clean.tweet_id)]"
   ]
  },
  {
   "cell_type": "markdown",
   "metadata": {},
   "source": [
    "*Test*"
   ]
  },
  {
   "cell_type": "code",
   "execution_count": 34,
   "metadata": {},
   "outputs": [
    {
     "data": {
      "text/plain": [
       "0"
      ]
     },
     "execution_count": 34,
     "metadata": {},
     "output_type": "execute_result"
    }
   ],
   "source": [
    "len(clean_df[~clean_df.tweet_id.isin(img_clean.tweet_id)])"
   ]
  },
  {
   "cell_type": "code",
   "execution_count": 102,
   "metadata": {},
   "outputs": [
    {
     "data": {
      "text/plain": [
       "0"
      ]
     },
     "execution_count": 102,
     "metadata": {},
     "output_type": "execute_result"
    }
   ],
   "source": [
    "len(clean_df[~clean_df.tweet_id.isin(tweet_clean.tweet_id)])"
   ]
  },
  {
   "cell_type": "code",
   "execution_count": 35,
   "metadata": {},
   "outputs": [
    {
     "name": "stdout",
     "output_type": "stream",
     "text": [
      "<class 'pandas.core.frame.DataFrame'>\n",
      "Int64Index: 2073 entries, 0 to 2355\n",
      "Data columns (total 17 columns):\n",
      "tweet_id                      2073 non-null object\n",
      "in_reply_to_status_id         23 non-null float64\n",
      "in_reply_to_user_id           23 non-null float64\n",
      "timestamp                     2073 non-null object\n",
      "source                        2073 non-null object\n",
      "text                          2073 non-null object\n",
      "retweeted_status_id           79 non-null float64\n",
      "retweeted_status_user_id      79 non-null float64\n",
      "retweeted_status_timestamp    79 non-null object\n",
      "expanded_urls                 2073 non-null object\n",
      "rating_numerator              2073 non-null int64\n",
      "rating_denominator            2073 non-null int64\n",
      "name                          2073 non-null object\n",
      "doggo                         2073 non-null object\n",
      "floofer                       2073 non-null object\n",
      "pupper                        2073 non-null object\n",
      "puppo                         2073 non-null object\n",
      "dtypes: float64(4), int64(2), object(11)\n",
      "memory usage: 291.5+ KB\n"
     ]
    }
   ],
   "source": [
    "clean_df.info()"
   ]
  },
  {
   "cell_type": "markdown",
   "metadata": {},
   "source": [
    "## Quality\n",
    "\n",
    "enhanced_df: erroneous datatype(*timestamp* columns)\n",
    "\n",
    "#### *Define*\n",
    "\n",
    "Convert timestamp to datetime format\n",
    "\n",
    "#### *Code*"
   ]
  },
  {
   "cell_type": "code",
   "execution_count": 36,
   "metadata": {},
   "outputs": [],
   "source": [
    "clean_df.timestamp=pd.to_datetime(clean_df.timestamp)"
   ]
  },
  {
   "cell_type": "markdown",
   "metadata": {},
   "source": [
    "#### *Test*"
   ]
  },
  {
   "cell_type": "code",
   "execution_count": 37,
   "metadata": {},
   "outputs": [
    {
     "name": "stdout",
     "output_type": "stream",
     "text": [
      "<class 'pandas.core.frame.DataFrame'>\n",
      "Int64Index: 2073 entries, 0 to 2355\n",
      "Data columns (total 17 columns):\n",
      "tweet_id                      2073 non-null object\n",
      "in_reply_to_status_id         23 non-null float64\n",
      "in_reply_to_user_id           23 non-null float64\n",
      "timestamp                     2073 non-null datetime64[ns, UTC]\n",
      "source                        2073 non-null object\n",
      "text                          2073 non-null object\n",
      "retweeted_status_id           79 non-null float64\n",
      "retweeted_status_user_id      79 non-null float64\n",
      "retweeted_status_timestamp    79 non-null object\n",
      "expanded_urls                 2073 non-null object\n",
      "rating_numerator              2073 non-null int64\n",
      "rating_denominator            2073 non-null int64\n",
      "name                          2073 non-null object\n",
      "doggo                         2073 non-null object\n",
      "floofer                       2073 non-null object\n",
      "pupper                        2073 non-null object\n",
      "puppo                         2073 non-null object\n",
      "dtypes: datetime64[ns, UTC](1), float64(4), int64(2), object(10)\n",
      "memory usage: 291.5+ KB\n"
     ]
    }
   ],
   "source": [
    "clean_df.info()"
   ]
  },
  {
   "cell_type": "markdown",
   "metadata": {},
   "source": [
    "## Quality\n",
    "\n",
    "<strong>*enhanced_df*</strong>: unnecessary additions in the source column (i.e <a href=\"\"http://twitter.com/download/iphone\"\" rel=\"\"nofollow\"\">Twitter for iPhone</a> instead of the just 'Twitter for iphone')"
   ]
  },
  {
   "cell_type": "markdown",
   "metadata": {},
   "source": [
    "#### *Define*\n",
    "Strip all html anchor tags in the source column and return just the text between thr\n",
    "tags, also converting it to categorical datatype from object"
   ]
  },
  {
   "cell_type": "markdown",
   "metadata": {},
   "source": [
    "#### *Code*"
   ]
  },
  {
   "cell_type": "code",
   "execution_count": 38,
   "metadata": {},
   "outputs": [],
   "source": [
    "clean_df.source=clean_df.source.str.replace(r'<(?:a\\b[^>]*>|/a>)', '')"
   ]
  },
  {
   "cell_type": "code",
   "execution_count": 39,
   "metadata": {},
   "outputs": [],
   "source": [
    "clean_df.source = clean_df.source.astype('category')"
   ]
  },
  {
   "cell_type": "markdown",
   "metadata": {},
   "source": [
    "#### *Test*"
   ]
  },
  {
   "cell_type": "code",
   "execution_count": 40,
   "metadata": {},
   "outputs": [
    {
     "name": "stdout",
     "output_type": "stream",
     "text": [
      "<class 'pandas.core.frame.DataFrame'>\n",
      "Int64Index: 2073 entries, 0 to 2355\n",
      "Data columns (total 17 columns):\n",
      "tweet_id                      2073 non-null object\n",
      "in_reply_to_status_id         23 non-null float64\n",
      "in_reply_to_user_id           23 non-null float64\n",
      "timestamp                     2073 non-null datetime64[ns, UTC]\n",
      "source                        2073 non-null category\n",
      "text                          2073 non-null object\n",
      "retweeted_status_id           79 non-null float64\n",
      "retweeted_status_user_id      79 non-null float64\n",
      "retweeted_status_timestamp    79 non-null object\n",
      "expanded_urls                 2073 non-null object\n",
      "rating_numerator              2073 non-null int64\n",
      "rating_denominator            2073 non-null int64\n",
      "name                          2073 non-null object\n",
      "doggo                         2073 non-null object\n",
      "floofer                       2073 non-null object\n",
      "pupper                        2073 non-null object\n",
      "puppo                         2073 non-null object\n",
      "dtypes: category(1), datetime64[ns, UTC](1), float64(4), int64(2), object(9)\n",
      "memory usage: 277.4+ KB\n"
     ]
    }
   ],
   "source": [
    "# examining the whole dataframe to see if there is any decrease in entries\n",
    "clean_df.info()"
   ]
  },
  {
   "cell_type": "code",
   "execution_count": 41,
   "metadata": {},
   "outputs": [
    {
     "data": {
      "text/plain": [
       "Twitter for iPhone    2032\n",
       "Twitter Web Client      30\n",
       "TweetDeck               11\n",
       "Name: source, dtype: int64"
      ]
     },
     "execution_count": 41,
     "metadata": {},
     "output_type": "execute_result"
    }
   ],
   "source": [
    "clean_df.source.value_counts()"
   ]
  },
  {
   "cell_type": "markdown",
   "metadata": {},
   "source": [
    " cleaning the ratings so that most ratings are with a denominator of 10 are retained for easy analysis.   \n",
    "\n",
    "#### *Define*\n",
    "for rows whose rating_denomnator is greater than 10 but divisible by 10 e.g denominator being 40, 70, 90 but numerator being 44, 84, 90 we can notice that the denominator is divisible by 10 an the numerator is divisible by the quotiet of the denominator divided by 10, so we can simply reduce the fraction to a simpler one with denominator 10 and the numeratoe reduced to still reflect the rating."
   ]
  },
  {
   "cell_type": "code",
   "execution_count": 42,
   "metadata": {},
   "outputs": [],
   "source": [
    "# regex to match fractions\n",
    "import re\n",
    "pattern = \"\\s*(\\d+([.]\\d+)?([/]\\d+))\"\n",
    "\n",
    "# function which will match the above pattern and return an array of fractions, if any\n",
    "def tokens(x):\n",
    "  return [m.group(1) for m in re.finditer(pattern, x)]"
   ]
  },
  {
   "cell_type": "code",
   "execution_count": 43,
   "metadata": {},
   "outputs": [
    {
     "name": "stderr",
     "output_type": "stream",
     "text": [
      "C:\\Users\\HP\\Anaconda3\\lib\\site-packages\\ipykernel_launcher.py:14: FutureWarning: set_value is deprecated and will be removed in a future release. Please use .at[] or .iat[] accessors instead\n",
      "  \n",
      "C:\\Users\\HP\\Anaconda3\\lib\\site-packages\\ipykernel_launcher.py:16: FutureWarning: set_value is deprecated and will be removed in a future release. Please use .at[] or .iat[] accessors instead\n",
      "  app.launch_new_instance()\n",
      "C:\\Users\\HP\\Anaconda3\\lib\\site-packages\\ipykernel_launcher.py:27: FutureWarning: set_value is deprecated and will be removed in a future release. Please use .at[] or .iat[] accessors instead\n",
      "C:\\Users\\HP\\Anaconda3\\lib\\site-packages\\ipykernel_launcher.py:29: FutureWarning: set_value is deprecated and will be removed in a future release. Please use .at[] or .iat[] accessors instead\n"
     ]
    }
   ],
   "source": [
    "# iterate through all those records whose rating_denominator is not 10\n",
    "for i, row in clean_df[clean_df.rating_denominator != 10].iterrows():\n",
    "    d = row.rating_denominator\n",
    "    \n",
    "    # if rating_denominator is greater than 10 and divisible by 10\n",
    "    if d > 10 and d%10 == 0:\n",
    "        # assign divisor as the quotient so as to reduce the fraction\n",
    "        divisor = d/10\n",
    "        n = row.rating_numerator\n",
    "        \n",
    "        # if rating_numerator is greater than 10 and divisible by the divisor\n",
    "        if n%divisor == 0:\n",
    "            # reassign rating_denominator as 10\n",
    "            clean_df.set_value(i, 'rating_denominator', 10)\n",
    "            # reassign rating_numerator as the quotient of rating_numerator by divisor\n",
    "            clean_df.set_value(i, 'rating_numerator', int(n/divisor))\n",
    "    \n",
    "    # for all those records whose rating_denominator is either less than 10 or not divisible by 10\n",
    "    else:\n",
    "        # extract all fractions(ratings) from text using tokens function\n",
    "        ratings = tokens(row.text)\n",
    "        # iterate through all the fractions\n",
    "        for rating in ratings:\n",
    "            # if denominator of any such fraction is equal to 10\n",
    "            if rating.split('/')[1] == '10':\n",
    "                # reassign rating_denominator as 10\n",
    "                clean_df.set_value(i, 'rating_denominator', 10)\n",
    "                # reassign rating_numerator as the numerator value of this fraction\n",
    "                clean_df.set_value(i, 'rating_numerator', int(round(float(rating.split('/')[0]))))\n",
    "                break"
   ]
  },
  {
   "cell_type": "markdown",
   "metadata": {},
   "source": [
    "#### *Test*"
   ]
  },
  {
   "cell_type": "code",
   "execution_count": 44,
   "metadata": {},
   "outputs": [
    {
     "data": {
      "text/plain": [
       "12      477\n",
       "10      432\n",
       "11      419\n",
       "13      283\n",
       "9       152\n",
       "8        95\n",
       "7        51\n",
       "14       41\n",
       "5        34\n",
       "6        32\n",
       "3        19\n",
       "4        15\n",
       "2        10\n",
       "1         4\n",
       "0         2\n",
       "75        1\n",
       "24        1\n",
       "26        1\n",
       "27        1\n",
       "1776      1\n",
       "15        1\n",
       "420       1\n",
       "Name: rating_numerator, dtype: int64"
      ]
     },
     "execution_count": 44,
     "metadata": {},
     "output_type": "execute_result"
    }
   ],
   "source": [
    "clean_df.rating_numerator.value_counts()"
   ]
  },
  {
   "cell_type": "markdown",
   "metadata": {},
   "source": [
    "#### *Define*\n",
    "replacing all unlikely names with None and since they all start with lowercase letters, we can simply use regex"
   ]
  },
  {
   "cell_type": "code",
   "execution_count": 45,
   "metadata": {},
   "outputs": [
    {
     "name": "stderr",
     "output_type": "stream",
     "text": [
      "C:\\Users\\HP\\Anaconda3\\lib\\site-packages\\ipykernel_launcher.py:1: SettingWithCopyWarning: \n",
      "A value is trying to be set on a copy of a slice from a DataFrame\n",
      "\n",
      "See the caveats in the documentation: http://pandas.pydata.org/pandas-docs/stable/user_guide/indexing.html#returning-a-view-versus-a-copy\n",
      "  \"\"\"Entry point for launching an IPython kernel.\n"
     ]
    }
   ],
   "source": [
    "clean_df['name'][clean_df['name'].str.match('[a-z]+')] = 'None'"
   ]
  },
  {
   "cell_type": "code",
   "execution_count": 46,
   "metadata": {},
   "outputs": [
    {
     "data": {
      "text/plain": [
       "None              677\n",
       "Charlie            11\n",
       "Oliver             10\n",
       "Penny              10\n",
       "Tucker             10\n",
       "Cooper             10\n",
       "Lucy               10\n",
       "Winston             8\n",
       "Lola                8\n",
       "Sadie               8\n",
       "Bo                  8\n",
       "Toby                7\n",
       "Daisy               7\n",
       "Scout               6\n",
       "Stanley             6\n",
       "Dave                6\n",
       "Jax                 6\n",
       "Bella               6\n",
       "Bailey              6\n",
       "Koda                6\n",
       "Rusty               6\n",
       "Milo                6\n",
       "Larry               5\n",
       "Oscar               5\n",
       "Leo                 5\n",
       "Buddy               5\n",
       "Alfie               5\n",
       "Louis               5\n",
       "Chester             5\n",
       "Phil                4\n",
       "Jerry               4\n",
       "Duke                4\n",
       "Clark               4\n",
       "Walter              4\n",
       "Scooter             4\n",
       "Bruce               4\n",
       "Sophie              4\n",
       "Bear                4\n",
       "Loki                4\n",
       "George              4\n",
       "Ruby                4\n",
       "Maggie              4\n",
       "Bentley             4\n",
       "Winnie              4\n",
       "Gary                4\n",
       "Reggie              4\n",
       "Derek               4\n",
       "Cassie              4\n",
       "Sunny               4\n",
       "Finn                4\n",
       "Oakley              4\n",
       "Chip                4\n",
       "Gus                 4\n",
       "Dexter              4\n",
       "Brody               4\n",
       "Clarence            4\n",
       "Jack                4\n",
       "Archie              4\n",
       "Reese               3\n",
       "Kyle                3\n",
       "Wyatt               3\n",
       "Lily                3\n",
       "Boomer              3\n",
       "Waffles             3\n",
       "Vincent             3\n",
       "Sebastian           3\n",
       "Zeke                3\n",
       "Gerald              3\n",
       "Sampson             3\n",
       "Jimothy             3\n",
       "Maximus             3\n",
       "Shadow              3\n",
       "Wilson              3\n",
       "Peaches             3\n",
       "Malcolm             3\n",
       "Louie               3\n",
       "Samson              3\n",
       "Calvin              3\n",
       "Otis                3\n",
       "Hank                3\n",
       "Riley               3\n",
       "Beau                3\n",
       "Rosie               3\n",
       "Sammy               3\n",
       "Steven              3\n",
       "Nala                3\n",
       "Mia                 3\n",
       "Moose               3\n",
       "Jeffrey             3\n",
       "Zoey                3\n",
       "Gizmo               3\n",
       "Olive               3\n",
       "Max                 3\n",
       "Ellie               3\n",
       "Earl                3\n",
       "Wallace             3\n",
       "Colby               3\n",
       "Paisley             3\n",
       "Frankie             3\n",
       "Ken                 2\n",
       "Astrid              2\n",
       "Romeo               2\n",
       "Watson              2\n",
       "Oliviér             2\n",
       "Chelsea             2\n",
       "Kreg                2\n",
       "Trooper             2\n",
       "Raymond             2\n",
       "CeCe                2\n",
       "Moreton             2\n",
       "Sarge               2\n",
       "Kenneth             2\n",
       "Abby                2\n",
       "Brad                2\n",
       "Eli                 2\n",
       "Rory                2\n",
       "Albert              2\n",
       "Luna                2\n",
       "Baxter              2\n",
       "Jeph                2\n",
       "Aspen               2\n",
       "Phineas             2\n",
       "Davey               2\n",
       "Chompsky            2\n",
       "Harper              2\n",
       "Dakota              2\n",
       "Luca                2\n",
       "Atlas               2\n",
       "Doc                 2\n",
       "Hobbes              2\n",
       "Kirby               2\n",
       "Gromit              2\n",
       "Lenny               2\n",
       "Gabe                2\n",
       "Flávio              2\n",
       "Jiminy              2\n",
       "Maxaroni            2\n",
       "Griffin             2\n",
       "Phred               2\n",
       "Butter              2\n",
       "Kilo                2\n",
       "Thumas              2\n",
       "Pippa               2\n",
       "Axel                2\n",
       "Fiona               2\n",
       "Calbert             2\n",
       "Roosevelt           2\n",
       "Theodore            2\n",
       "Bernie              2\n",
       "Arnie               2\n",
       "Patrick             2\n",
       "Sandy               2\n",
       "Nelly               2\n",
       "Panda               2\n",
       "Franklin            2\n",
       "Coco                2\n",
       "Lilly               2\n",
       "Finley              2\n",
       "Lou                 2\n",
       "Cali                2\n",
       "Ava                 2\n",
       "Bob                 2\n",
       "Doug                2\n",
       "Smokey              2\n",
       "Kevin               2\n",
       "Klevin              2\n",
       "Marley              2\n",
       "Opal                2\n",
       "Tyr                 2\n",
       "Frank               2\n",
       "Kenny               2\n",
       "Chipson             2\n",
       "Carl                2\n",
       "Cupcake             2\n",
       "Mister              2\n",
       "Django              2\n",
       "Sam                 2\n",
       "Juno                2\n",
       "Moe                 2\n",
       "Cash                2\n",
       "Reginald            2\n",
       "Lorenzo             2\n",
       "Curtis              2\n",
       "Yogi                2\n",
       "Stephan             2\n",
       "Happy               2\n",
       "Dash                2\n",
       "Albus               2\n",
       "Stubert             2\n",
       "Rufus               2\n",
       "Jackson             2\n",
       "Crystal             2\n",
       "Remington           2\n",
       "Betty               2\n",
       "Ash                 2\n",
       "Solomon             2\n",
       "Titan               2\n",
       "Piper               2\n",
       "Pickles             2\n",
       "Keith               2\n",
       "Chuckles            2\n",
       "Sugar               2\n",
       "Klein               2\n",
       "Herald              2\n",
       "Rubio               2\n",
       "Jesse               2\n",
       "Rocky               2\n",
       "Bisquick            2\n",
       "Coops               2\n",
       "Paull               2\n",
       "Bubbles             2\n",
       "Elliot              2\n",
       "Benji               2\n",
       "Ted                 2\n",
       "Kreggory            2\n",
       "Churlie             2\n",
       "Chet                2\n",
       "Hercules            2\n",
       "Lennon              2\n",
       "Harold              2\n",
       "Linda               2\n",
       "Bell                2\n",
       "Neptune             2\n",
       "Belle               2\n",
       "Benedict            2\n",
       "Terry               2\n",
       "Charles             2\n",
       "Rizzy               2\n",
       "Atticus             2\n",
       "Wally               2\n",
       "Herm                2\n",
       "Penelope            2\n",
       "Indie               2\n",
       "Hunter              2\n",
       "Jimison             2\n",
       "Odie                2\n",
       "Hammond             2\n",
       "Alice               2\n",
       "Cody                2\n",
       "Sansa               2\n",
       "Misty               2\n",
       "Percy               2\n",
       "Lincoln             2\n",
       "Olivia              2\n",
       "Ollie               2\n",
       "Pip                 1\n",
       "Akumi               1\n",
       "Cedrick             1\n",
       "Mutt                1\n",
       "Deacon              1\n",
       "Jomathan            1\n",
       "Brandy              1\n",
       "Karma               1\n",
       "Remy                1\n",
       "Wishes              1\n",
       "Cuddles             1\n",
       "Diogi               1\n",
       "Emanuel             1\n",
       "Lugan               1\n",
       "DonDon              1\n",
       "Sonny               1\n",
       "Olaf                1\n",
       "Harlso              1\n",
       "Emma                1\n",
       "Hermione            1\n",
       "Odin                1\n",
       "Filup               1\n",
       "Billy               1\n",
       "Brockly             1\n",
       "Carll               1\n",
       "Arya                1\n",
       "Butters             1\n",
       "Obi                 1\n",
       "Dutch               1\n",
       "Link                1\n",
       "Rover               1\n",
       "Maisey              1\n",
       "Sage                1\n",
       "Longfellow          1\n",
       "Godi                1\n",
       "Tino                1\n",
       "Gustav              1\n",
       "Kingsley            1\n",
       "Moofasa             1\n",
       "Jeb                 1\n",
       "Baron               1\n",
       "Stewie              1\n",
       "Walker              1\n",
       "Kramer              1\n",
       "Superpup            1\n",
       "Sailer              1\n",
       "Bobbay              1\n",
       "Kenzie              1\n",
       "Binky               1\n",
       "Lipton              1\n",
       "Marq                1\n",
       "Edmund              1\n",
       "Kyro                1\n",
       "Rambo               1\n",
       "Bilbo               1\n",
       "Wiggles             1\n",
       "Fwed                1\n",
       "Adele               1\n",
       "Lilli               1\n",
       "Philippe            1\n",
       "Mabel               1\n",
       "Crimson             1\n",
       "Jeffrie             1\n",
       "Milky               1\n",
       "Yoda                1\n",
       "Shawwn              1\n",
       "Randall             1\n",
       "Barclay             1\n",
       "Carter              1\n",
       "Grizz               1\n",
       "Loomis              1\n",
       "Beebop              1\n",
       "Tyrus               1\n",
       "Spencer             1\n",
       "Ed                  1\n",
       "Koko                1\n",
       "Snicku              1\n",
       "Peanut              1\n",
       "Goose               1\n",
       "Mitch               1\n",
       "Bert                1\n",
       "Augie               1\n",
       "Batdog              1\n",
       "River               1\n",
       "Remus               1\n",
       "Pumpkin             1\n",
       "Jangle              1\n",
       "Fizz                1\n",
       "Ralphé              1\n",
       "Snickers            1\n",
       "Ambrose             1\n",
       "Mookie              1\n",
       "Chesterson          1\n",
       "Kobe                1\n",
       "Mark                1\n",
       "Theo                1\n",
       "Glenn               1\n",
       "Divine              1\n",
       "Chubbs              1\n",
       "Brandi              1\n",
       "Shikha              1\n",
       "Maude               1\n",
       "Tommy               1\n",
       "Huxley              1\n",
       "Lucky               1\n",
       "Callie              1\n",
       "Winifred            1\n",
       "Bubba               1\n",
       "Furzey              1\n",
       "Blu                 1\n",
       "Stuart              1\n",
       "Terrenth            1\n",
       "Chuq                1\n",
       "Kial                1\n",
       "Reagan              1\n",
       "Pablo               1\n",
       "Mattie              1\n",
       "Miguel              1\n",
       "Bauer               1\n",
       "Trigger             1\n",
       "Ronduh              1\n",
       "Schnitzel           1\n",
       "Ginger              1\n",
       "Sprinkles           1\n",
       "Ozzy                1\n",
       "Tobi                1\n",
       "Tayzie              1\n",
       "Carper              1\n",
       "Halo                1\n",
       "Maya                1\n",
       "Meera               1\n",
       "Sojourner           1\n",
       "Reptar              1\n",
       "Creg                1\n",
       "Covach              1\n",
       "Anna                1\n",
       "Michelangelope      1\n",
       "Grizzie             1\n",
       "Alejandro           1\n",
       "Tedders             1\n",
       "Sunshine            1\n",
       "Jessiga             1\n",
       "Timison             1\n",
       "Jessifer            1\n",
       "Pawnd               1\n",
       "Shelby              1\n",
       "Pinot               1\n",
       "Georgie             1\n",
       "Bones               1\n",
       "Tebow               1\n",
       "Brutus              1\n",
       "Tove                1\n",
       "Aubie               1\n",
       "Miley               1\n",
       "Arlen               1\n",
       "Suki                1\n",
       "Lassie              1\n",
       "Taco                1\n",
       "Tedrick             1\n",
       "Lorelei             1\n",
       "Dylan               1\n",
       "Jiminus             1\n",
       "Spanky              1\n",
       "Luther              1\n",
       "Liam                1\n",
       "Chevy               1\n",
       "Bayley              1\n",
       "Dex                 1\n",
       "Bruiser             1\n",
       "Sandra              1\n",
       "Ace                 1\n",
       "Marvin              1\n",
       "Shooter             1\n",
       "Lilah               1\n",
       "Leela               1\n",
       "Pete                1\n",
       "Sephie              1\n",
       "Wesley              1\n",
       "Mary                1\n",
       "Stormy              1\n",
       "Eriq                1\n",
       "Zeus                1\n",
       "Levi                1\n",
       "Skye                1\n",
       "Mimosa              1\n",
       "Stephanus           1\n",
       "Rodman              1\n",
       "Rocco               1\n",
       "Layla               1\n",
       "Lili                1\n",
       "Amber               1\n",
       "Sundance            1\n",
       "Kane                1\n",
       "Jersey              1\n",
       "Storkson            1\n",
       "Joey                1\n",
       "Harrison            1\n",
       "Ziva                1\n",
       "Tango               1\n",
       "Todo                1\n",
       "Darby               1\n",
       "Comet               1\n",
       "Opie                1\n",
       "Bobble              1\n",
       "Murphy              1\n",
       "Monkey              1\n",
       "Pilot               1\n",
       "Burt                1\n",
       "Rumpole             1\n",
       "Wafer               1\n",
       "Staniel             1\n",
       "Bruno               1\n",
       "Carbon              1\n",
       "Jameson             1\n",
       "Sierra              1\n",
       "Sparky              1\n",
       "Tom                 1\n",
       "Ester               1\n",
       "Maddie              1\n",
       "Ulysses             1\n",
       "Vinnie              1\n",
       "Emmy                1\n",
       "Zara                1\n",
       "Pubert              1\n",
       "Tuck                1\n",
       "Jonah               1\n",
       "Hector              1\n",
       "Beckham             1\n",
       "Keet                1\n",
       "Chaz                1\n",
       "Clybe               1\n",
       "Juckson             1\n",
       "Jay                 1\n",
       "Keurig              1\n",
       "Brooks              1\n",
       "Shadoe              1\n",
       "Dale                1\n",
       "Norman              1\n",
       "Fred                1\n",
       "Mona                1\n",
       "Maxwell             1\n",
       "Mya                 1\n",
       "Howie               1\n",
       "Alfy                1\n",
       "Toffee              1\n",
       "Cermet              1\n",
       "Leonard             1\n",
       "Rodney              1\n",
       "Robin               1\n",
       "Snoop               1\n",
       "Ike                 1\n",
       "Alexander           1\n",
       "Lambeau             1\n",
       "Dotsy               1\n",
       "Hurley              1\n",
       "Brownie             1\n",
       "Rorie               1\n",
       "Nugget              1\n",
       "Margo               1\n",
       "Willie              1\n",
       "Blakely             1\n",
       "Kayla               1\n",
       "Arnold              1\n",
       "Harnold             1\n",
       "Clarq               1\n",
       "Clifford            1\n",
       "Meyer               1\n",
       "Willow              1\n",
       "Bloo                1\n",
       "Franq               1\n",
       "Jazz                1\n",
       "Smiley              1\n",
       "Quinn               1\n",
       "Sprout              1\n",
       "Freddery            1\n",
       "Rhino               1\n",
       "Grizzwald           1\n",
       "Jebberson           1\n",
       "Benny               1\n",
       "Leonidas            1\n",
       "Karll               1\n",
       "Jareld              1\n",
       "Livvie              1\n",
       "Lulu                1\n",
       "Coopson             1\n",
       "Edd                 1\n",
       "Gustaf              1\n",
       "Darrel              1\n",
       "Steve               1\n",
       "Gert                1\n",
       "Flash               1\n",
       "Tess                1\n",
       "Fabio               1\n",
       "Jeremy              1\n",
       "Sweet               1\n",
       "Venti               1\n",
       "Birf                1\n",
       "Holly               1\n",
       "Sid                 1\n",
       "Marty               1\n",
       "Bungalo             1\n",
       "Gordon              1\n",
       "Hall                1\n",
       "Jaycob              1\n",
       "Timmy               1\n",
       "Tito                1\n",
       "Ivar                1\n",
       "Beya                1\n",
       "Kona                1\n",
       "Angel               1\n",
       "Kawhi               1\n",
       "Dewey               1\n",
       "Bradlay             1\n",
       "Patch               1\n",
       "Dallas              1\n",
       "Apollo              1\n",
       "Poppy               1\n",
       "Lolo                1\n",
       "Striker             1\n",
       "Kara                1\n",
       "Kody                1\n",
       "Dietrich            1\n",
       "Anakin              1\n",
       "Ronnie              1\n",
       "Nollie              1\n",
       "Zeek                1\n",
       "Einstein            1\n",
       "Crouton             1\n",
       "Aja                 1\n",
       "Blitz               1\n",
       "Travis              1\n",
       "Christoper          1\n",
       "JD                  1\n",
       "Ralf                1\n",
       "Herschel            1\n",
       "Geno                1\n",
       "Beemo               1\n",
       "Blue                1\n",
       "Monty               1\n",
       "Bradley             1\n",
       "Charl               1\n",
       "Jeffri              1\n",
       "Jordy               1\n",
       "Dwight              1\n",
       "Buckley             1\n",
       "Genevieve           1\n",
       "Nimbus              1\n",
       "Meatball            1\n",
       "Malikai             1\n",
       "Chloe               1\n",
       "Crawford            1\n",
       "Bodie               1\n",
       "Kuyu                1\n",
       "Pippin              1\n",
       "Antony              1\n",
       "Clyde               1\n",
       "Bertson             1\n",
       "Kanu                1\n",
       "Ron                 1\n",
       "Bobby               1\n",
       "Horace              1\n",
       "DayZ                1\n",
       "Fynn                1\n",
       "Logan               1\n",
       "Major               1\n",
       "Jamesy              1\n",
       "Stella              1\n",
       "Jarod               1\n",
       "Trevith             1\n",
       "Aiden               1\n",
       "Sailor              1\n",
       "Molly               1\n",
       "Farfle              1\n",
       "Stu                 1\n",
       "Amélie              1\n",
       "Brat                1\n",
       "Berkeley            1\n",
       "Iggy                1\n",
       "Brian               1\n",
       "Clarkus             1\n",
       "Evy                 1\n",
       "Kollin              1\n",
       "Tiger               1\n",
       "Tassy               1\n",
       "Jennifur            1\n",
       "Lacy                1\n",
       "Bode                1\n",
       "Rey                 1\n",
       "Cecil               1\n",
       "Spark               1\n",
       "Mike                1\n",
       "Duddles             1\n",
       "Kevon               1\n",
       "Lizzie              1\n",
       "Lance               1\n",
       "Ralpher             1\n",
       "Timofy              1\n",
       "Gilbert             1\n",
       "Cal                 1\n",
       "Kellogg             1\n",
       "Lucia               1\n",
       "Ralphie             1\n",
       "Ozzie               1\n",
       "Rufio               1\n",
       "Arlo                1\n",
       "O                   1\n",
       "Jockson             1\n",
       "Griswold            1\n",
       "Shiloh              1\n",
       "Damon               1\n",
       "Fletcher            1\n",
       "Barney              1\n",
       "Scott               1\n",
       "Vince               1\n",
       "Willy               1\n",
       "William             1\n",
       "Siba                1\n",
       "Mingus              1\n",
       "Andru               1\n",
       "Devón               1\n",
       "Pepper              1\n",
       "Oreo                1\n",
       "Traviss             1\n",
       "Ashleigh            1\n",
       "Kota                1\n",
       "Chadrick            1\n",
       "Brudge              1\n",
       "Jed                 1\n",
       "Jackie              1\n",
       "Bloop               1\n",
       "Mason               1\n",
       "Carly               1\n",
       "Rolf                1\n",
       "Schnozz             1\n",
       "Brandonald          1\n",
       "Sobe                1\n",
       "Willem              1\n",
       "Asher               1\n",
       "Gunner              1\n",
       "Ben                 1\n",
       "Hazel               1\n",
       "Jarvis              1\n",
       "Banditt             1\n",
       "Gidget              1\n",
       "Thor                1\n",
       "Iroh                1\n",
       "Napolean            1\n",
       "Henry               1\n",
       "Naphaniel           1\n",
       "Shaggy              1\n",
       "Raphael             1\n",
       "Hubertson           1\n",
       "Kallie              1\n",
       "Pavlov              1\n",
       "Finnegus            1\n",
       "Katie               1\n",
       "Stark               1\n",
       "Dixie               1\n",
       "Josep               1\n",
       "Baloo               1\n",
       "Heinrich            1\n",
       "Ito                 1\n",
       "Aldrick             1\n",
       "Tater               1\n",
       "Harry               1\n",
       "Blipson             1\n",
       "Boots               1\n",
       "Bonaparte           1\n",
       "Aqua                1\n",
       "Eazy                1\n",
       "Gòrdón              1\n",
       "Bookstore           1\n",
       "Nigel               1\n",
       "Obie                1\n",
       "Orion               1\n",
       "Monster             1\n",
       "Rontu               1\n",
       "Mairi               1\n",
       "Chesney             1\n",
       "Geoff               1\n",
       "Mo                  1\n",
       "Noah                1\n",
       "Flurpson            1\n",
       "Chef                1\n",
       "Durg                1\n",
       "Tessa               1\n",
       "Andy                1\n",
       "Amy                 1\n",
       "Trip                1\n",
       "Ricky               1\n",
       "Goliath             1\n",
       "Bluebert            1\n",
       "Kendall             1\n",
       "Petrick             1\n",
       "Lenox               1\n",
       "Rooney              1\n",
       "Simba               1\n",
       "Doobert             1\n",
       "Craig               1\n",
       "Joshwa              1\n",
       "Jimbo               1\n",
       "Charleson           1\n",
       "Fiji                1\n",
       "Champ               1\n",
       "Strider             1\n",
       "Bowie               1\n",
       "Nico                1\n",
       "Samsom              1\n",
       "Newt                1\n",
       "Cupid               1\n",
       "Herb                1\n",
       "Shnuggles           1\n",
       "Fillup              1\n",
       "Billl               1\n",
       "Blanket             1\n",
       "Berb                1\n",
       "Kathmandu           1\n",
       "Sora                1\n",
       "Swagger             1\n",
       "Gin                 1\n",
       "Julio               1\n",
       "Kloey               1\n",
       "Rumble              1\n",
       "Maks                1\n",
       "Donny               1\n",
       "Pipsy               1\n",
       "Lupe                1\n",
       "Alexanderson        1\n",
       "Banjo               1\n",
       "Jim                 1\n",
       "Puff                1\n",
       "Dudley              1\n",
       "Dawn                1\n",
       "Kulet               1\n",
       "Mac                 1\n",
       "Fido                1\n",
       "Hero                1\n",
       "Karl                1\n",
       "Ole                 1\n",
       "Ridley              1\n",
       "Mosby               1\n",
       "Grady               1\n",
       "Biden               1\n",
       "Derby               1\n",
       "Hamrick             1\n",
       "Ralphus             1\n",
       "Eve                 1\n",
       "Tripp               1\n",
       "Roscoe              1\n",
       "Darla               1\n",
       "Sky                 1\n",
       "Brady               1\n",
       "Eevee               1\n",
       "Coleman             1\n",
       "Stefan              1\n",
       "Socks               1\n",
       "Gerbald             1\n",
       "Pancake             1\n",
       "Dunkin              1\n",
       "Strudel             1\n",
       "Ralphson            1\n",
       "Glacier             1\n",
       "Mack                1\n",
       "Daniel              1\n",
       "Caryl               1\n",
       "Buddah              1\n",
       "Jerome              1\n",
       "Dot                 1\n",
       "Julius              1\n",
       "Dobby               1\n",
       "Corey               1\n",
       "Vinscent            1\n",
       "Cleopatricia        1\n",
       "Tilly               1\n",
       "Al                  1\n",
       "Cilantro            1\n",
       "Dook                1\n",
       "Skittles            1\n",
       "Oshie               1\n",
       "Dante               1\n",
       "Snoopy              1\n",
       "Taz                 1\n",
       "Richie              1\n",
       "Scruffers           1\n",
       "Pupcasso            1\n",
       "Tuco                1\n",
       "Zoe                 1\n",
       "Eleanor             1\n",
       "Kaia                1\n",
       "General             1\n",
       "Humphrey            1\n",
       "Bobb                1\n",
       "Autumn              1\n",
       "Ruffles             1\n",
       "Philbert            1\n",
       "Dido                1\n",
       "Tyrone              1\n",
       "Colin               1\n",
       "Kirk                1\n",
       "Godzilla            1\n",
       "Mauve               1\n",
       "Rueben              1\n",
       "Tupawc              1\n",
       "Cannon              1\n",
       "Danny               1\n",
       "Severus             1\n",
       "Hanz                1\n",
       "Laela               1\n",
       "Boston              1\n",
       "Saydee              1\n",
       "BeBe                1\n",
       "Vixen               1\n",
       "Anthony             1\n",
       "Jazzy               1\n",
       "Alf                 1\n",
       "Chase               1\n",
       "Rilo                1\n",
       "Tanner              1\n",
       "Eugene              1\n",
       "Zuzu                1\n",
       "Jo                  1\n",
       "Mollie              1\n",
       "Tycho               1\n",
       "Acro                1\n",
       "Sully               1\n",
       "Rupert              1\n",
       "Noosh               1\n",
       "Jett                1\n",
       "Harvey              1\n",
       "Pluto               1\n",
       "Edgar               1\n",
       "Rizzo               1\n",
       "Cheryl              1\n",
       "Huck                1\n",
       "Grey                1\n",
       "Perry               1\n",
       "Tug                 1\n",
       "Chuck               1\n",
       "Nida                1\n",
       "Mojo                1\n",
       "Cora                1\n",
       "Claude              1\n",
       "Florence            1\n",
       "Millie              1\n",
       "Lillie              1\n",
       "Emmie               1\n",
       "Shakespeare         1\n",
       "Torque              1\n",
       "Timber              1\n",
       "Ralph               1\n",
       "Erik                1\n",
       "Duchess             1\n",
       "Terrance            1\n",
       "Rinna               1\n",
       "Kaiya               1\n",
       "Zooey               1\n",
       "Ebby                1\n",
       "Marlee              1\n",
       "Dug                 1\n",
       "Frönq               1\n",
       "Crumpet             1\n",
       "Bronte              1\n",
       "Canela              1\n",
       "Jaspers             1\n",
       "Tonks               1\n",
       "Enchilada           1\n",
       "Cheesy              1\n",
       "Rose                1\n",
       "Laika               1\n",
       "Name: name, dtype: int64"
      ]
     },
     "execution_count": 46,
     "metadata": {},
     "output_type": "execute_result"
    }
   ],
   "source": [
    "clean_df.name.value_counts()"
   ]
  },
  {
   "cell_type": "markdown",
   "metadata": {},
   "source": [
    "*enhanced_df* contains data for more than one dog stage, this will cause issues when merging the data, so consulting the dogtionary for help"
   ]
  },
  {
   "cell_type": "code",
   "execution_count": 47,
   "metadata": {},
   "outputs": [
    {
     "name": "stdout",
     "output_type": "stream",
     "text": [
      "there is 1 row which contains data for both doggo and floofer stage\n",
      "there is 1 row which contains data for both doggo and puppo stage\n",
      "there is 11 rows which contains data for both doggo and pupper stage\n"
     ]
    }
   ],
   "source": [
    "print('there is {} row which contains data for both doggo and floofer stage'.format(len(clean_df[(clean_df.doggo != 'None') & (clean_df.floofer != 'None')])))\n",
    "print('there is {} row which contains data for both doggo and puppo stage'.format(len(clean_df[(clean_df.doggo != 'None') & (clean_df.puppo != 'None')])))\n",
    "print('there is {} rows which contains data for both doggo and pupper stage'.format(len(clean_df[(clean_df.doggo != 'None') & (clean_df.pupper != 'None')])))"
   ]
  },
  {
   "cell_type": "markdown",
   "metadata": {},
   "source": [
    "#### *Define*\n",
    "for the row with doggo and floofer and the other with doggo and puppo, first manually examine the row, while for the 9 rows with doggo and upper after consulting the dogtionary, it said that doggo and pupper may sometimes be used interchangeably, though 'doggo' is a more encompasing name. \"A dog would be called a \"doggo\" or \"pupper\" in DoggoLingo.\" paraphrased from an article on DoggoLingo from wiki https://en.wikipedia.org/wiki/DoggoLingo"
   ]
  },
  {
   "cell_type": "markdown",
   "metadata": {},
   "source": [
    "*Code*"
   ]
  },
  {
   "cell_type": "code",
   "execution_count": 48,
   "metadata": {},
   "outputs": [
    {
     "data": {
      "text/plain": [
       "(200    854010172552949760\n",
       " Name: tweet_id, dtype: object,\n",
       " 200    At first I thought this was a shy doggo, but i...\n",
       " Name: text, dtype: object)"
      ]
     },
     "execution_count": 48,
     "metadata": {},
     "output_type": "execute_result"
    }
   ],
   "source": [
    "clean_df[(clean_df.doggo != 'None') & (clean_df.floofer != 'None')].tweet_id, clean_df[(clean_df.doggo != 'None') & (clean_df.floofer != 'None')].text "
   ]
  },
  {
   "cell_type": "code",
   "execution_count": 49,
   "metadata": {},
   "outputs": [
    {
     "data": {
      "text/plain": [
       "(191    855851453814013952\n",
       " Name: tweet_id, dtype: object,\n",
       " 191    Here's a puppo participating in the #ScienceMa...\n",
       " Name: text, dtype: object)"
      ]
     },
     "execution_count": 49,
     "metadata": {},
     "output_type": "execute_result"
    }
   ],
   "source": [
    "clean_df[(clean_df.doggo != 'None') & (clean_df.puppo != 'None')].tweet_id, clean_df[(clean_df.doggo != 'None') & (clean_df.puppo != 'None')].text"
   ]
  },
  {
   "cell_type": "code",
   "execution_count": 50,
   "metadata": {},
   "outputs": [
    {
     "name": "stderr",
     "output_type": "stream",
     "text": [
      "C:\\Users\\HP\\Anaconda3\\lib\\site-packages\\ipykernel_launcher.py:1: SettingWithCopyWarning: \n",
      "A value is trying to be set on a copy of a slice from a DataFrame\n",
      "\n",
      "See the caveats in the documentation: http://pandas.pydata.org/pandas-docs/stable/user_guide/indexing.html#returning-a-view-versus-a-copy\n",
      "  \"\"\"Entry point for launching an IPython kernel.\n"
     ]
    }
   ],
   "source": [
    "clean_df.doggo[clean_df.tweet_id.isin(['854010172552949760', '855851453814013952'])] = 'None'"
   ]
  },
  {
   "cell_type": "markdown",
   "metadata": {},
   "source": [
    "*Test*"
   ]
  },
  {
   "cell_type": "code",
   "execution_count": 51,
   "metadata": {},
   "outputs": [
    {
     "name": "stdout",
     "output_type": "stream",
     "text": [
      "there is 0 row which contains data for both doggo and floofer stage\n",
      "there is 0 row which contains data for both doggo and puppo stage\n"
     ]
    }
   ],
   "source": [
    "print('there is {} row which contains data for both doggo and floofer stage'.format(len(clean_df[(clean_df.doggo != 'None') & (clean_df.floofer != 'None')])))\n",
    "print('there is {} row which contains data for both doggo and puppo stage'.format(len(clean_df[(clean_df.doggo != 'None') & (clean_df.puppo != 'None')])))\n"
   ]
  },
  {
   "cell_type": "markdown",
   "metadata": {},
   "source": [
    "*Code*"
   ]
  },
  {
   "cell_type": "code",
   "execution_count": 52,
   "metadata": {},
   "outputs": [
    {
     "name": "stderr",
     "output_type": "stream",
     "text": [
      "C:\\Users\\HP\\Anaconda3\\lib\\site-packages\\ipykernel_launcher.py:2: SettingWithCopyWarning: \n",
      "A value is trying to be set on a copy of a slice from a DataFrame\n",
      "\n",
      "See the caveats in the documentation: http://pandas.pydata.org/pandas-docs/stable/user_guide/indexing.html#returning-a-view-versus-a-copy\n",
      "  \n"
     ]
    }
   ],
   "source": [
    "# set pupper column as None for records which have both doggo and pupper\n",
    "clean_df.pupper[(clean_df.doggo != 'None') & (clean_df.pupper != 'None')] = 'None'"
   ]
  },
  {
   "cell_type": "markdown",
   "metadata": {},
   "source": [
    "*Test*"
   ]
  },
  {
   "cell_type": "code",
   "execution_count": 53,
   "metadata": {},
   "outputs": [
    {
     "name": "stdout",
     "output_type": "stream",
     "text": [
      "there is 0 rows which contains data for both doggo and pupper stage\n"
     ]
    }
   ],
   "source": [
    "print('there is {} rows which contains data for both doggo and pupper stage'.format(len(clean_df[(clean_df.doggo != 'None') & (clean_df.pupper != 'None')])))"
   ]
  },
  {
   "cell_type": "markdown",
   "metadata": {},
   "source": [
    "#### *Define*\n",
    "As to use the best code for leaving only text in the text column of the *enhanced_df* table requires using the text range in the display_text_range column we start with the merging now of the tweet_df table, thereby leaving only the displayable text "
   ]
  },
  {
   "cell_type": "markdown",
   "metadata": {},
   "source": [
    "#### *code*"
   ]
  },
  {
   "cell_type": "code",
   "execution_count": 54,
   "metadata": {},
   "outputs": [],
   "source": [
    "clean_df = pd.merge(clean_df, tweet_clean[['tweet_id', 'display_text_range']], on='tweet_id',)"
   ]
  },
  {
   "cell_type": "code",
   "execution_count": 55,
   "metadata": {},
   "outputs": [
    {
     "data": {
      "text/html": [
       "<div>\n",
       "<style scoped>\n",
       "    .dataframe tbody tr th:only-of-type {\n",
       "        vertical-align: middle;\n",
       "    }\n",
       "\n",
       "    .dataframe tbody tr th {\n",
       "        vertical-align: top;\n",
       "    }\n",
       "\n",
       "    .dataframe thead th {\n",
       "        text-align: right;\n",
       "    }\n",
       "</style>\n",
       "<table border=\"1\" class=\"dataframe\">\n",
       "  <thead>\n",
       "    <tr style=\"text-align: right;\">\n",
       "      <th></th>\n",
       "      <th>tweet_id</th>\n",
       "      <th>in_reply_to_status_id</th>\n",
       "      <th>in_reply_to_user_id</th>\n",
       "      <th>timestamp</th>\n",
       "      <th>source</th>\n",
       "      <th>text</th>\n",
       "      <th>retweeted_status_id</th>\n",
       "      <th>retweeted_status_user_id</th>\n",
       "      <th>retweeted_status_timestamp</th>\n",
       "      <th>expanded_urls</th>\n",
       "      <th>rating_numerator</th>\n",
       "      <th>rating_denominator</th>\n",
       "      <th>name</th>\n",
       "      <th>doggo</th>\n",
       "      <th>floofer</th>\n",
       "      <th>pupper</th>\n",
       "      <th>puppo</th>\n",
       "      <th>display_text_range</th>\n",
       "    </tr>\n",
       "  </thead>\n",
       "  <tbody>\n",
       "    <tr>\n",
       "      <td>0</td>\n",
       "      <td>892420643555336193</td>\n",
       "      <td>NaN</td>\n",
       "      <td>NaN</td>\n",
       "      <td>2017-08-01 16:23:56+00:00</td>\n",
       "      <td>Twitter for iPhone</td>\n",
       "      <td>This is Phineas. He's a mystical boy. Only eve...</td>\n",
       "      <td>NaN</td>\n",
       "      <td>NaN</td>\n",
       "      <td>NaN</td>\n",
       "      <td>https://twitter.com/dog_rates/status/892420643...</td>\n",
       "      <td>13</td>\n",
       "      <td>10</td>\n",
       "      <td>Phineas</td>\n",
       "      <td>None</td>\n",
       "      <td>None</td>\n",
       "      <td>None</td>\n",
       "      <td>None</td>\n",
       "      <td>[0, 85]</td>\n",
       "    </tr>\n",
       "    <tr>\n",
       "      <td>1</td>\n",
       "      <td>892177421306343426</td>\n",
       "      <td>NaN</td>\n",
       "      <td>NaN</td>\n",
       "      <td>2017-08-01 00:17:27+00:00</td>\n",
       "      <td>Twitter for iPhone</td>\n",
       "      <td>This is Tilly. She's just checking pup on you....</td>\n",
       "      <td>NaN</td>\n",
       "      <td>NaN</td>\n",
       "      <td>NaN</td>\n",
       "      <td>https://twitter.com/dog_rates/status/892177421...</td>\n",
       "      <td>13</td>\n",
       "      <td>10</td>\n",
       "      <td>Tilly</td>\n",
       "      <td>None</td>\n",
       "      <td>None</td>\n",
       "      <td>None</td>\n",
       "      <td>None</td>\n",
       "      <td>[0, 138]</td>\n",
       "    </tr>\n",
       "    <tr>\n",
       "      <td>2</td>\n",
       "      <td>891815181378084864</td>\n",
       "      <td>NaN</td>\n",
       "      <td>NaN</td>\n",
       "      <td>2017-07-31 00:18:03+00:00</td>\n",
       "      <td>Twitter for iPhone</td>\n",
       "      <td>This is Archie. He is a rare Norwegian Pouncin...</td>\n",
       "      <td>NaN</td>\n",
       "      <td>NaN</td>\n",
       "      <td>NaN</td>\n",
       "      <td>https://twitter.com/dog_rates/status/891815181...</td>\n",
       "      <td>12</td>\n",
       "      <td>10</td>\n",
       "      <td>Archie</td>\n",
       "      <td>None</td>\n",
       "      <td>None</td>\n",
       "      <td>None</td>\n",
       "      <td>None</td>\n",
       "      <td>[0, 121]</td>\n",
       "    </tr>\n",
       "    <tr>\n",
       "      <td>3</td>\n",
       "      <td>891689557279858688</td>\n",
       "      <td>NaN</td>\n",
       "      <td>NaN</td>\n",
       "      <td>2017-07-30 15:58:51+00:00</td>\n",
       "      <td>Twitter for iPhone</td>\n",
       "      <td>This is Darla. She commenced a snooze mid meal...</td>\n",
       "      <td>NaN</td>\n",
       "      <td>NaN</td>\n",
       "      <td>NaN</td>\n",
       "      <td>https://twitter.com/dog_rates/status/891689557...</td>\n",
       "      <td>13</td>\n",
       "      <td>10</td>\n",
       "      <td>Darla</td>\n",
       "      <td>None</td>\n",
       "      <td>None</td>\n",
       "      <td>None</td>\n",
       "      <td>None</td>\n",
       "      <td>[0, 79]</td>\n",
       "    </tr>\n",
       "    <tr>\n",
       "      <td>4</td>\n",
       "      <td>891327558926688256</td>\n",
       "      <td>NaN</td>\n",
       "      <td>NaN</td>\n",
       "      <td>2017-07-29 16:00:24+00:00</td>\n",
       "      <td>Twitter for iPhone</td>\n",
       "      <td>This is Franklin. He would like you to stop ca...</td>\n",
       "      <td>NaN</td>\n",
       "      <td>NaN</td>\n",
       "      <td>NaN</td>\n",
       "      <td>https://twitter.com/dog_rates/status/891327558...</td>\n",
       "      <td>12</td>\n",
       "      <td>10</td>\n",
       "      <td>Franklin</td>\n",
       "      <td>None</td>\n",
       "      <td>None</td>\n",
       "      <td>None</td>\n",
       "      <td>None</td>\n",
       "      <td>[0, 138]</td>\n",
       "    </tr>\n",
       "  </tbody>\n",
       "</table>\n",
       "</div>"
      ],
      "text/plain": [
       "             tweet_id  in_reply_to_status_id  in_reply_to_user_id  \\\n",
       "0  892420643555336193                    NaN                  NaN   \n",
       "1  892177421306343426                    NaN                  NaN   \n",
       "2  891815181378084864                    NaN                  NaN   \n",
       "3  891689557279858688                    NaN                  NaN   \n",
       "4  891327558926688256                    NaN                  NaN   \n",
       "\n",
       "                  timestamp              source  \\\n",
       "0 2017-08-01 16:23:56+00:00  Twitter for iPhone   \n",
       "1 2017-08-01 00:17:27+00:00  Twitter for iPhone   \n",
       "2 2017-07-31 00:18:03+00:00  Twitter for iPhone   \n",
       "3 2017-07-30 15:58:51+00:00  Twitter for iPhone   \n",
       "4 2017-07-29 16:00:24+00:00  Twitter for iPhone   \n",
       "\n",
       "                                                text  retweeted_status_id  \\\n",
       "0  This is Phineas. He's a mystical boy. Only eve...                  NaN   \n",
       "1  This is Tilly. She's just checking pup on you....                  NaN   \n",
       "2  This is Archie. He is a rare Norwegian Pouncin...                  NaN   \n",
       "3  This is Darla. She commenced a snooze mid meal...                  NaN   \n",
       "4  This is Franklin. He would like you to stop ca...                  NaN   \n",
       "\n",
       "   retweeted_status_user_id retweeted_status_timestamp  \\\n",
       "0                       NaN                        NaN   \n",
       "1                       NaN                        NaN   \n",
       "2                       NaN                        NaN   \n",
       "3                       NaN                        NaN   \n",
       "4                       NaN                        NaN   \n",
       "\n",
       "                                       expanded_urls  rating_numerator  \\\n",
       "0  https://twitter.com/dog_rates/status/892420643...                13   \n",
       "1  https://twitter.com/dog_rates/status/892177421...                13   \n",
       "2  https://twitter.com/dog_rates/status/891815181...                12   \n",
       "3  https://twitter.com/dog_rates/status/891689557...                13   \n",
       "4  https://twitter.com/dog_rates/status/891327558...                12   \n",
       "\n",
       "   rating_denominator      name doggo floofer pupper puppo display_text_range  \n",
       "0                  10   Phineas  None    None   None  None            [0, 85]  \n",
       "1                  10     Tilly  None    None   None  None           [0, 138]  \n",
       "2                  10    Archie  None    None   None  None           [0, 121]  \n",
       "3                  10     Darla  None    None   None  None            [0, 79]  \n",
       "4                  10  Franklin  None    None   None  None           [0, 138]  "
      ]
     },
     "execution_count": 55,
     "metadata": {},
     "output_type": "execute_result"
    }
   ],
   "source": [
    "clean_df.head()"
   ]
  },
  {
   "cell_type": "code",
   "execution_count": 56,
   "metadata": {},
   "outputs": [
    {
     "name": "stderr",
     "output_type": "stream",
     "text": [
      "C:\\Users\\HP\\Anaconda3\\lib\\site-packages\\ipykernel_launcher.py:6: FutureWarning: set_value is deprecated and will be removed in a future release. Please use .at[] or .iat[] accessors instead\n",
      "  \n"
     ]
    }
   ],
   "source": [
    "# extracting the display_text_range  and using them to extract the displayable \n",
    "# text by using the values as a range as using a merge might lead to errors which will require cleaning\n",
    "for i, r in clean_df.iterrows():\n",
    "    text_range  = r.display_text_range\n",
    "    display_text = r.text[text_range[0]:text_range[1]]\n",
    "    clean_df.set_value(i, 'text', display_text)"
   ]
  },
  {
   "cell_type": "markdown",
   "metadata": {},
   "source": [
    "## *Tidiness*\n",
    "\n",
    "doggo, floofer, puppo and pupper columns in the enhanced_df should be merged into one column called the 'dog_stage'"
   ]
  },
  {
   "cell_type": "markdown",
   "metadata": {},
   "source": [
    "#### *Define*\n",
    "merge the doggo, fluffer, puppo and the pupper columns into a column *dog_stage* column. convert the ddatatype into categorical, and then drop the doggo, fluffer, puppo and pupper columns"
   ]
  },
  {
   "cell_type": "markdown",
   "metadata": {},
   "source": [
    "*Code*"
   ]
  },
  {
   "cell_type": "code",
   "execution_count": 57,
   "metadata": {},
   "outputs": [],
   "source": [
    "#merge the doggo, floofer, puppo and pupper into a column dog_stage\n",
    "clean_df['dog_stage'] = clean_df[['doggo', 'floofer', 'pupper', 'puppo']].max(axis=1)"
   ]
  },
  {
   "cell_type": "code",
   "execution_count": 58,
   "metadata": {},
   "outputs": [],
   "source": [
    "clean_df.dog_stage = clean_df.dog_stage.astype('category')"
   ]
  },
  {
   "cell_type": "code",
   "execution_count": 59,
   "metadata": {},
   "outputs": [],
   "source": [
    "clean_df.drop(['doggo','pupper','puppo','floofer'], axis=1, inplace=True)"
   ]
  },
  {
   "cell_type": "markdown",
   "metadata": {},
   "source": [
    "#### *Test*"
   ]
  },
  {
   "cell_type": "code",
   "execution_count": 60,
   "metadata": {},
   "outputs": [
    {
     "name": "stdout",
     "output_type": "stream",
     "text": [
      "<class 'pandas.core.frame.DataFrame'>\n",
      "Int64Index: 2073 entries, 0 to 2072\n",
      "Data columns (total 15 columns):\n",
      "tweet_id                      2073 non-null object\n",
      "in_reply_to_status_id         23 non-null float64\n",
      "in_reply_to_user_id           23 non-null float64\n",
      "timestamp                     2073 non-null datetime64[ns, UTC]\n",
      "source                        2073 non-null category\n",
      "text                          2073 non-null object\n",
      "retweeted_status_id           79 non-null float64\n",
      "retweeted_status_user_id      79 non-null float64\n",
      "retweeted_status_timestamp    79 non-null object\n",
      "expanded_urls                 2073 non-null object\n",
      "rating_numerator              2073 non-null int64\n",
      "rating_denominator            2073 non-null int64\n",
      "name                          2073 non-null object\n",
      "display_text_range            2073 non-null object\n",
      "dog_stage                     2073 non-null category\n",
      "dtypes: category(2), datetime64[ns, UTC](1), float64(4), int64(2), object(6)\n",
      "memory usage: 311.1+ KB\n"
     ]
    }
   ],
   "source": [
    "clean_df.info()"
   ]
  },
  {
   "cell_type": "code",
   "execution_count": 61,
   "metadata": {},
   "outputs": [
    {
     "data": {
      "text/plain": [
       "None       1753\n",
       "pupper      210\n",
       "doggo        78\n",
       "puppo        24\n",
       "floofer       8\n",
       "Name: dog_stage, dtype: int64"
      ]
     },
     "execution_count": 61,
     "metadata": {},
     "output_type": "execute_result"
    }
   ],
   "source": [
    "clean_df.dog_stage.value_counts()"
   ]
  },
  {
   "cell_type": "markdown",
   "metadata": {},
   "source": [
    "- a breed column should be created from the data from the p1_conf and p1_dog columns from the image table so as to know the breed of the dogs and also remove pets which are not dogs from the table\n",
    "- the retweet_count and favorite_count from the tweet_df table should be added to the clean_df for ease of analysis of our data"
   ]
  },
  {
   "cell_type": "markdown",
   "metadata": {},
   "source": [
    "## Tidiness"
   ]
  },
  {
   "cell_type": "markdown",
   "metadata": {},
   "source": [
    "#### *Define*\n",
    "dropping the retweeted_status_id, retweeted_status_user_id and retweeted_status_timestamp columns from enhanced_df table"
   ]
  },
  {
   "cell_type": "markdown",
   "metadata": {},
   "source": [
    "##### *code*"
   ]
  },
  {
   "cell_type": "code",
   "execution_count": 62,
   "metadata": {},
   "outputs": [],
   "source": [
    "clean_df.drop(['retweeted_status_id', 'retweeted_status_user_id', 'retweeted_status_timestamp'], axis=1, inplace=True)"
   ]
  },
  {
   "cell_type": "markdown",
   "metadata": {},
   "source": [
    "##### *Test*"
   ]
  },
  {
   "cell_type": "code",
   "execution_count": 63,
   "metadata": {},
   "outputs": [
    {
     "name": "stdout",
     "output_type": "stream",
     "text": [
      "<class 'pandas.core.frame.DataFrame'>\n",
      "Int64Index: 2073 entries, 0 to 2072\n",
      "Data columns (total 12 columns):\n",
      "tweet_id                 2073 non-null object\n",
      "in_reply_to_status_id    23 non-null float64\n",
      "in_reply_to_user_id      23 non-null float64\n",
      "timestamp                2073 non-null datetime64[ns, UTC]\n",
      "source                   2073 non-null category\n",
      "text                     2073 non-null object\n",
      "expanded_urls            2073 non-null object\n",
      "rating_numerator         2073 non-null int64\n",
      "rating_denominator       2073 non-null int64\n",
      "name                     2073 non-null object\n",
      "display_text_range       2073 non-null object\n",
      "dog_stage                2073 non-null category\n",
      "dtypes: category(2), datetime64[ns, UTC](1), float64(2), int64(2), object(5)\n",
      "memory usage: 262.5+ KB\n"
     ]
    }
   ],
   "source": [
    "clean_df.info()"
   ]
  },
  {
   "cell_type": "markdown",
   "metadata": {},
   "source": [
    "#### *Define*\n",
    "dropping the in_reply_to_status_id, in_reply_to_user_id columns\n",
    "\n",
    "*Code*"
   ]
  },
  {
   "cell_type": "code",
   "execution_count": 64,
   "metadata": {},
   "outputs": [],
   "source": [
    "clean_df.drop(['in_reply_to_status_id','in_reply_to_user_id'], axis =1, inplace=True)"
   ]
  },
  {
   "cell_type": "markdown",
   "metadata": {},
   "source": [
    "*Test*"
   ]
  },
  {
   "cell_type": "code",
   "execution_count": 65,
   "metadata": {},
   "outputs": [
    {
     "name": "stdout",
     "output_type": "stream",
     "text": [
      "<class 'pandas.core.frame.DataFrame'>\n",
      "Int64Index: 2073 entries, 0 to 2072\n",
      "Data columns (total 10 columns):\n",
      "tweet_id              2073 non-null object\n",
      "timestamp             2073 non-null datetime64[ns, UTC]\n",
      "source                2073 non-null category\n",
      "text                  2073 non-null object\n",
      "expanded_urls         2073 non-null object\n",
      "rating_numerator      2073 non-null int64\n",
      "rating_denominator    2073 non-null int64\n",
      "name                  2073 non-null object\n",
      "display_text_range    2073 non-null object\n",
      "dog_stage             2073 non-null category\n",
      "dtypes: category(2), datetime64[ns, UTC](1), int64(2), object(5)\n",
      "memory usage: 230.1+ KB\n"
     ]
    }
   ],
   "source": [
    "clean_df.info()"
   ]
  },
  {
   "cell_type": "markdown",
   "metadata": {},
   "source": [
    "#### *Define*\n",
    "create columns for the *dog_breed*, *retweet_count* and *favorite_count* in the `clean_df` table where values from the other tables can be extracted into, as the `clean_df` table is not of the same length as the other tables making a merge error prone.\n",
    "the *dog_breed* column will use each tweet_id, use the `image` table to check if *p1_conf* is greater than 0.95 (i.e. 95% confidence interval) and *p1_dog* is True. If it is, set the value of *p1* column in *dog_breed* column."
   ]
  },
  {
   "cell_type": "code",
   "execution_count": null,
   "metadata": {},
   "outputs": [],
   "source": []
  },
  {
   "cell_type": "code",
   "execution_count": 66,
   "metadata": {},
   "outputs": [
    {
     "name": "stdout",
     "output_type": "stream",
     "text": [
      "<class 'pandas.core.frame.DataFrame'>\n",
      "RangeIndex: 2075 entries, 0 to 2074\n",
      "Data columns (total 12 columns):\n",
      "tweet_id    2075 non-null object\n",
      "jpg_url     2075 non-null object\n",
      "img_num     2075 non-null int64\n",
      "p1          2075 non-null object\n",
      "p1_conf     2075 non-null float64\n",
      "p1_dog      2075 non-null bool\n",
      "p2          2075 non-null object\n",
      "p2_conf     2075 non-null float64\n",
      "p2_dog      2075 non-null bool\n",
      "p3          2075 non-null object\n",
      "p3_conf     2075 non-null float64\n",
      "p3_dog      2075 non-null bool\n",
      "dtypes: bool(3), float64(3), int64(1), object(5)\n",
      "memory usage: 152.1+ KB\n"
     ]
    }
   ],
   "source": [
    "img_clean.info()"
   ]
  },
  {
   "cell_type": "code",
   "execution_count": 67,
   "metadata": {},
   "outputs": [
    {
     "name": "stderr",
     "output_type": "stream",
     "text": [
      "C:\\Users\\HP\\Anaconda3\\lib\\site-packages\\ipykernel_launcher.py:7: FutureWarning: set_value is deprecated and will be removed in a future release. Please use .at[] or .iat[] accessors instead\n",
      "  import sys\n"
     ]
    }
   ],
   "source": [
    "img_clean['dog_breed']='None'\n",
    "for i,row in img_clean.iterrows():\n",
    "    img_prediction = img_clean[img_clean.tweet_id == row.tweet_id]\n",
    "    p1_conf = img_prediction.p1_conf.iloc[0]\n",
    "    p1_dog = img_prediction.p1_dog.iloc[0]\n",
    "    if p1_conf >= 0.95 and p1_dog:\n",
    "        img_clean.set_value(i, 'dog_breed', img_prediction.p1.iloc[0])"
   ]
  },
  {
   "cell_type": "markdown",
   "metadata": {},
   "source": [
    "#### *Define*\n",
    "Dropping unneeded columns"
   ]
  },
  {
   "cell_type": "markdown",
   "metadata": {},
   "source": [
    "*Code*"
   ]
  },
  {
   "cell_type": "code",
   "execution_count": 68,
   "metadata": {},
   "outputs": [],
   "source": [
    "img_clean.drop(['p2','p2_conf','p2_dog','p3','p3_conf','p3_dog','img_num','p1','p1_conf','p1_dog','jpg_url'],axis=1,inplace=True)"
   ]
  },
  {
   "cell_type": "markdown",
   "metadata": {},
   "source": [
    "*Test*"
   ]
  },
  {
   "cell_type": "code",
   "execution_count": 69,
   "metadata": {},
   "outputs": [
    {
     "data": {
      "text/html": [
       "<div>\n",
       "<style scoped>\n",
       "    .dataframe tbody tr th:only-of-type {\n",
       "        vertical-align: middle;\n",
       "    }\n",
       "\n",
       "    .dataframe tbody tr th {\n",
       "        vertical-align: top;\n",
       "    }\n",
       "\n",
       "    .dataframe thead th {\n",
       "        text-align: right;\n",
       "    }\n",
       "</style>\n",
       "<table border=\"1\" class=\"dataframe\">\n",
       "  <thead>\n",
       "    <tr style=\"text-align: right;\">\n",
       "      <th></th>\n",
       "      <th>tweet_id</th>\n",
       "      <th>dog_breed</th>\n",
       "    </tr>\n",
       "  </thead>\n",
       "  <tbody>\n",
       "    <tr>\n",
       "      <td>0</td>\n",
       "      <td>666020888022790149</td>\n",
       "      <td>None</td>\n",
       "    </tr>\n",
       "    <tr>\n",
       "      <td>1</td>\n",
       "      <td>666029285002620928</td>\n",
       "      <td>None</td>\n",
       "    </tr>\n",
       "    <tr>\n",
       "      <td>2</td>\n",
       "      <td>666033412701032449</td>\n",
       "      <td>None</td>\n",
       "    </tr>\n",
       "    <tr>\n",
       "      <td>3</td>\n",
       "      <td>666044226329800704</td>\n",
       "      <td>None</td>\n",
       "    </tr>\n",
       "    <tr>\n",
       "      <td>4</td>\n",
       "      <td>666049248165822465</td>\n",
       "      <td>None</td>\n",
       "    </tr>\n",
       "  </tbody>\n",
       "</table>\n",
       "</div>"
      ],
      "text/plain": [
       "             tweet_id dog_breed\n",
       "0  666020888022790149      None\n",
       "1  666029285002620928      None\n",
       "2  666033412701032449      None\n",
       "3  666044226329800704      None\n",
       "4  666049248165822465      None"
      ]
     },
     "execution_count": 69,
     "metadata": {},
     "output_type": "execute_result"
    }
   ],
   "source": [
    "img_clean.head()"
   ]
  },
  {
   "cell_type": "markdown",
   "metadata": {},
   "source": [
    "#### *Define*\n",
    "Merging our img_clean and the clean_df dataframes to get our final dataframe"
   ]
  },
  {
   "cell_type": "markdown",
   "metadata": {},
   "source": [
    "*Code*"
   ]
  },
  {
   "cell_type": "code",
   "execution_count": 70,
   "metadata": {},
   "outputs": [],
   "source": [
    "clean = pd.merge(clean_df,img_clean,on='tweet_id',how='left') "
   ]
  },
  {
   "cell_type": "markdown",
   "metadata": {},
   "source": [
    "*Test*"
   ]
  },
  {
   "cell_type": "code",
   "execution_count": 71,
   "metadata": {},
   "outputs": [
    {
     "name": "stdout",
     "output_type": "stream",
     "text": [
      "<class 'pandas.core.frame.DataFrame'>\n",
      "Int64Index: 2073 entries, 0 to 2072\n",
      "Data columns (total 11 columns):\n",
      "tweet_id              2073 non-null object\n",
      "timestamp             2073 non-null datetime64[ns, UTC]\n",
      "source                2073 non-null category\n",
      "text                  2073 non-null object\n",
      "expanded_urls         2073 non-null object\n",
      "rating_numerator      2073 non-null int64\n",
      "rating_denominator    2073 non-null int64\n",
      "name                  2073 non-null object\n",
      "display_text_range    2073 non-null object\n",
      "dog_stage             2073 non-null category\n",
      "dog_breed             2073 non-null object\n",
      "dtypes: category(2), datetime64[ns, UTC](1), int64(2), object(6)\n",
      "memory usage: 166.3+ KB\n"
     ]
    }
   ],
   "source": [
    "clean.info()"
   ]
  },
  {
   "cell_type": "markdown",
   "metadata": {},
   "source": [
    "#### *Define*\n",
    "Dropping the display_text_range column as it has already being merged with our clean dataframe previously while cleaning the clean_df"
   ]
  },
  {
   "cell_type": "code",
   "execution_count": 72,
   "metadata": {},
   "outputs": [
    {
     "data": {
      "text/html": [
       "<div>\n",
       "<style scoped>\n",
       "    .dataframe tbody tr th:only-of-type {\n",
       "        vertical-align: middle;\n",
       "    }\n",
       "\n",
       "    .dataframe tbody tr th {\n",
       "        vertical-align: top;\n",
       "    }\n",
       "\n",
       "    .dataframe thead th {\n",
       "        text-align: right;\n",
       "    }\n",
       "</style>\n",
       "<table border=\"1\" class=\"dataframe\">\n",
       "  <thead>\n",
       "    <tr style=\"text-align: right;\">\n",
       "      <th></th>\n",
       "      <th>tweet_id</th>\n",
       "      <th>retweet_count</th>\n",
       "      <th>favorite_count</th>\n",
       "      <th>display_text_range</th>\n",
       "    </tr>\n",
       "  </thead>\n",
       "  <tbody>\n",
       "    <tr>\n",
       "      <td>0</td>\n",
       "      <td>892420643555336193</td>\n",
       "      <td>8853</td>\n",
       "      <td>39467</td>\n",
       "      <td>[0, 85]</td>\n",
       "    </tr>\n",
       "    <tr>\n",
       "      <td>1</td>\n",
       "      <td>892177421306343426</td>\n",
       "      <td>6514</td>\n",
       "      <td>33819</td>\n",
       "      <td>[0, 138]</td>\n",
       "    </tr>\n",
       "    <tr>\n",
       "      <td>2</td>\n",
       "      <td>891815181378084864</td>\n",
       "      <td>4328</td>\n",
       "      <td>25461</td>\n",
       "      <td>[0, 121]</td>\n",
       "    </tr>\n",
       "    <tr>\n",
       "      <td>3</td>\n",
       "      <td>891689557279858688</td>\n",
       "      <td>8964</td>\n",
       "      <td>42908</td>\n",
       "      <td>[0, 79]</td>\n",
       "    </tr>\n",
       "    <tr>\n",
       "      <td>4</td>\n",
       "      <td>891327558926688256</td>\n",
       "      <td>9774</td>\n",
       "      <td>41048</td>\n",
       "      <td>[0, 138]</td>\n",
       "    </tr>\n",
       "  </tbody>\n",
       "</table>\n",
       "</div>"
      ],
      "text/plain": [
       "             tweet_id  retweet_count  favorite_count display_text_range\n",
       "0  892420643555336193           8853           39467            [0, 85]\n",
       "1  892177421306343426           6514           33819           [0, 138]\n",
       "2  891815181378084864           4328           25461           [0, 121]\n",
       "3  891689557279858688           8964           42908            [0, 79]\n",
       "4  891327558926688256           9774           41048           [0, 138]"
      ]
     },
     "execution_count": 72,
     "metadata": {},
     "output_type": "execute_result"
    }
   ],
   "source": [
    "tweet_clean.head()"
   ]
  },
  {
   "cell_type": "markdown",
   "metadata": {},
   "source": [
    "*Code*"
   ]
  },
  {
   "cell_type": "code",
   "execution_count": 73,
   "metadata": {},
   "outputs": [],
   "source": [
    "tweet_clean.drop('display_text_range',axis=1, inplace=True)"
   ]
  },
  {
   "cell_type": "code",
   "execution_count": 74,
   "metadata": {},
   "outputs": [],
   "source": [
    "clean = pd.merge(clean,tweet_clean,on='tweet_id',how='left')"
   ]
  },
  {
   "cell_type": "markdown",
   "metadata": {},
   "source": [
    "*Test*"
   ]
  },
  {
   "cell_type": "code",
   "execution_count": 75,
   "metadata": {},
   "outputs": [
    {
     "name": "stdout",
     "output_type": "stream",
     "text": [
      "<class 'pandas.core.frame.DataFrame'>\n",
      "Int64Index: 2073 entries, 0 to 2072\n",
      "Data columns (total 13 columns):\n",
      "tweet_id              2073 non-null object\n",
      "timestamp             2073 non-null datetime64[ns, UTC]\n",
      "source                2073 non-null category\n",
      "text                  2073 non-null object\n",
      "expanded_urls         2073 non-null object\n",
      "rating_numerator      2073 non-null int64\n",
      "rating_denominator    2073 non-null int64\n",
      "name                  2073 non-null object\n",
      "display_text_range    2073 non-null object\n",
      "dog_stage             2073 non-null category\n",
      "dog_breed             2073 non-null object\n",
      "retweet_count         2073 non-null int64\n",
      "favorite_count        2073 non-null int64\n",
      "dtypes: category(2), datetime64[ns, UTC](1), int64(4), object(6)\n",
      "memory usage: 198.7+ KB\n"
     ]
    }
   ],
   "source": [
    "clean.info()"
   ]
  },
  {
   "cell_type": "markdown",
   "metadata": {},
   "source": [
    "#### *Test*"
   ]
  },
  {
   "cell_type": "code",
   "execution_count": 76,
   "metadata": {},
   "outputs": [
    {
     "data": {
      "text/plain": [
       "count     2073\n",
       "unique      46\n",
       "top       None\n",
       "freq      1881\n",
       "Name: dog_breed, dtype: object"
      ]
     },
     "execution_count": 76,
     "metadata": {},
     "output_type": "execute_result"
    }
   ],
   "source": [
    "clean.dog_breed.describe()"
   ]
  },
  {
   "cell_type": "code",
   "execution_count": 77,
   "metadata": {},
   "outputs": [
    {
     "name": "stdout",
     "output_type": "stream",
     "text": [
      "<class 'pandas.core.frame.DataFrame'>\n",
      "Int64Index: 2073 entries, 0 to 2072\n",
      "Data columns (total 13 columns):\n",
      "tweet_id              2073 non-null object\n",
      "timestamp             2073 non-null datetime64[ns, UTC]\n",
      "source                2073 non-null category\n",
      "text                  2073 non-null object\n",
      "expanded_urls         2073 non-null object\n",
      "rating_numerator      2073 non-null int64\n",
      "rating_denominator    2073 non-null int64\n",
      "name                  2073 non-null object\n",
      "display_text_range    2073 non-null object\n",
      "dog_stage             2073 non-null category\n",
      "dog_breed             2073 non-null object\n",
      "retweet_count         2073 non-null int64\n",
      "favorite_count        2073 non-null int64\n",
      "dtypes: category(2), datetime64[ns, UTC](1), int64(4), object(6)\n",
      "memory usage: 198.7+ KB\n"
     ]
    }
   ],
   "source": [
    "clean.info()"
   ]
  },
  {
   "cell_type": "markdown",
   "metadata": {},
   "source": [
    "# Storing Data"
   ]
  },
  {
   "cell_type": "code",
   "execution_count": 103,
   "metadata": {},
   "outputs": [],
   "source": [
    "tweet_clean.to_csv('twitter_master_enhanced2.csv', index=False)"
   ]
  },
  {
   "cell_type": "code",
   "execution_count": 105,
   "metadata": {},
   "outputs": [],
   "source": [
    "img_clean.to_csv('image_predictions2.csv', index=False)"
   ]
  },
  {
   "cell_type": "code",
   "execution_count": 78,
   "metadata": {},
   "outputs": [],
   "source": [
    "clean.to_csv('twitter_archive_master.csv', index=False)"
   ]
  },
  {
   "cell_type": "markdown",
   "metadata": {},
   "source": [
    "# Analysis of the Data"
   ]
  },
  {
   "cell_type": "code",
   "execution_count": 79,
   "metadata": {},
   "outputs": [],
   "source": [
    "df = clean.copy()"
   ]
  },
  {
   "cell_type": "code",
   "execution_count": 80,
   "metadata": {},
   "outputs": [
    {
     "name": "stdout",
     "output_type": "stream",
     "text": [
      "<class 'pandas.core.frame.DataFrame'>\n",
      "Int64Index: 2073 entries, 0 to 2072\n",
      "Data columns (total 13 columns):\n",
      "tweet_id              2073 non-null object\n",
      "timestamp             2073 non-null datetime64[ns, UTC]\n",
      "source                2073 non-null category\n",
      "text                  2073 non-null object\n",
      "expanded_urls         2073 non-null object\n",
      "rating_numerator      2073 non-null int64\n",
      "rating_denominator    2073 non-null int64\n",
      "name                  2073 non-null object\n",
      "display_text_range    2073 non-null object\n",
      "dog_stage             2073 non-null category\n",
      "dog_breed             2073 non-null object\n",
      "retweet_count         2073 non-null int64\n",
      "favorite_count        2073 non-null int64\n",
      "dtypes: category(2), datetime64[ns, UTC](1), int64(4), object(6)\n",
      "memory usage: 198.7+ KB\n"
     ]
    }
   ],
   "source": [
    "df.info()"
   ]
  },
  {
   "cell_type": "code",
   "execution_count": 81,
   "metadata": {},
   "outputs": [
    {
     "data": {
      "text/html": [
       "<div>\n",
       "<style scoped>\n",
       "    .dataframe tbody tr th:only-of-type {\n",
       "        vertical-align: middle;\n",
       "    }\n",
       "\n",
       "    .dataframe tbody tr th {\n",
       "        vertical-align: top;\n",
       "    }\n",
       "\n",
       "    .dataframe thead th {\n",
       "        text-align: right;\n",
       "    }\n",
       "</style>\n",
       "<table border=\"1\" class=\"dataframe\">\n",
       "  <thead>\n",
       "    <tr style=\"text-align: right;\">\n",
       "      <th></th>\n",
       "      <th>tweet_id</th>\n",
       "      <th>timestamp</th>\n",
       "      <th>source</th>\n",
       "      <th>text</th>\n",
       "      <th>expanded_urls</th>\n",
       "      <th>rating_numerator</th>\n",
       "      <th>rating_denominator</th>\n",
       "      <th>name</th>\n",
       "      <th>display_text_range</th>\n",
       "      <th>dog_stage</th>\n",
       "      <th>dog_breed</th>\n",
       "      <th>retweet_count</th>\n",
       "      <th>favorite_count</th>\n",
       "    </tr>\n",
       "  </thead>\n",
       "  <tbody>\n",
       "    <tr>\n",
       "      <td>0</td>\n",
       "      <td>892420643555336193</td>\n",
       "      <td>2017-08-01 16:23:56+00:00</td>\n",
       "      <td>Twitter for iPhone</td>\n",
       "      <td>This is Phineas. He's a mystical boy. Only eve...</td>\n",
       "      <td>https://twitter.com/dog_rates/status/892420643...</td>\n",
       "      <td>13</td>\n",
       "      <td>10</td>\n",
       "      <td>Phineas</td>\n",
       "      <td>[0, 85]</td>\n",
       "      <td>None</td>\n",
       "      <td>None</td>\n",
       "      <td>8853</td>\n",
       "      <td>39467</td>\n",
       "    </tr>\n",
       "    <tr>\n",
       "      <td>1</td>\n",
       "      <td>892177421306343426</td>\n",
       "      <td>2017-08-01 00:17:27+00:00</td>\n",
       "      <td>Twitter for iPhone</td>\n",
       "      <td>This is Tilly. She's just checking pup on you....</td>\n",
       "      <td>https://twitter.com/dog_rates/status/892177421...</td>\n",
       "      <td>13</td>\n",
       "      <td>10</td>\n",
       "      <td>Tilly</td>\n",
       "      <td>[0, 138]</td>\n",
       "      <td>None</td>\n",
       "      <td>None</td>\n",
       "      <td>6514</td>\n",
       "      <td>33819</td>\n",
       "    </tr>\n",
       "    <tr>\n",
       "      <td>2</td>\n",
       "      <td>891815181378084864</td>\n",
       "      <td>2017-07-31 00:18:03+00:00</td>\n",
       "      <td>Twitter for iPhone</td>\n",
       "      <td>This is Archie. He is a rare Norwegian Pouncin...</td>\n",
       "      <td>https://twitter.com/dog_rates/status/891815181...</td>\n",
       "      <td>12</td>\n",
       "      <td>10</td>\n",
       "      <td>Archie</td>\n",
       "      <td>[0, 121]</td>\n",
       "      <td>None</td>\n",
       "      <td>None</td>\n",
       "      <td>4328</td>\n",
       "      <td>25461</td>\n",
       "    </tr>\n",
       "    <tr>\n",
       "      <td>3</td>\n",
       "      <td>891689557279858688</td>\n",
       "      <td>2017-07-30 15:58:51+00:00</td>\n",
       "      <td>Twitter for iPhone</td>\n",
       "      <td>This is Darla. She commenced a snooze mid meal...</td>\n",
       "      <td>https://twitter.com/dog_rates/status/891689557...</td>\n",
       "      <td>13</td>\n",
       "      <td>10</td>\n",
       "      <td>Darla</td>\n",
       "      <td>[0, 79]</td>\n",
       "      <td>None</td>\n",
       "      <td>None</td>\n",
       "      <td>8964</td>\n",
       "      <td>42908</td>\n",
       "    </tr>\n",
       "    <tr>\n",
       "      <td>4</td>\n",
       "      <td>891327558926688256</td>\n",
       "      <td>2017-07-29 16:00:24+00:00</td>\n",
       "      <td>Twitter for iPhone</td>\n",
       "      <td>This is Franklin. He would like you to stop ca...</td>\n",
       "      <td>https://twitter.com/dog_rates/status/891327558...</td>\n",
       "      <td>12</td>\n",
       "      <td>10</td>\n",
       "      <td>Franklin</td>\n",
       "      <td>[0, 138]</td>\n",
       "      <td>None</td>\n",
       "      <td>None</td>\n",
       "      <td>9774</td>\n",
       "      <td>41048</td>\n",
       "    </tr>\n",
       "  </tbody>\n",
       "</table>\n",
       "</div>"
      ],
      "text/plain": [
       "             tweet_id                 timestamp              source  \\\n",
       "0  892420643555336193 2017-08-01 16:23:56+00:00  Twitter for iPhone   \n",
       "1  892177421306343426 2017-08-01 00:17:27+00:00  Twitter for iPhone   \n",
       "2  891815181378084864 2017-07-31 00:18:03+00:00  Twitter for iPhone   \n",
       "3  891689557279858688 2017-07-30 15:58:51+00:00  Twitter for iPhone   \n",
       "4  891327558926688256 2017-07-29 16:00:24+00:00  Twitter for iPhone   \n",
       "\n",
       "                                                text  \\\n",
       "0  This is Phineas. He's a mystical boy. Only eve...   \n",
       "1  This is Tilly. She's just checking pup on you....   \n",
       "2  This is Archie. He is a rare Norwegian Pouncin...   \n",
       "3  This is Darla. She commenced a snooze mid meal...   \n",
       "4  This is Franklin. He would like you to stop ca...   \n",
       "\n",
       "                                       expanded_urls  rating_numerator  \\\n",
       "0  https://twitter.com/dog_rates/status/892420643...                13   \n",
       "1  https://twitter.com/dog_rates/status/892177421...                13   \n",
       "2  https://twitter.com/dog_rates/status/891815181...                12   \n",
       "3  https://twitter.com/dog_rates/status/891689557...                13   \n",
       "4  https://twitter.com/dog_rates/status/891327558...                12   \n",
       "\n",
       "   rating_denominator      name display_text_range dog_stage dog_breed  \\\n",
       "0                  10   Phineas            [0, 85]      None      None   \n",
       "1                  10     Tilly           [0, 138]      None      None   \n",
       "2                  10    Archie           [0, 121]      None      None   \n",
       "3                  10     Darla            [0, 79]      None      None   \n",
       "4                  10  Franklin           [0, 138]      None      None   \n",
       "\n",
       "   retweet_count  favorite_count  \n",
       "0           8853           39467  \n",
       "1           6514           33819  \n",
       "2           4328           25461  \n",
       "3           8964           42908  \n",
       "4           9774           41048  "
      ]
     },
     "execution_count": 81,
     "metadata": {},
     "output_type": "execute_result"
    }
   ],
   "source": [
    "df.head()"
   ]
  },
  {
   "cell_type": "markdown",
   "metadata": {},
   "source": [
    "#### counts of WeRateDogs' tweets for each month"
   ]
  },
  {
   "cell_type": "code",
   "execution_count": 82,
   "metadata": {},
   "outputs": [
    {
     "data": {
      "text/plain": [
       "2015-11    298\n",
       "2015-12    367\n",
       "2016-01    169\n",
       "2016-02    111\n",
       "2016-03    121\n",
       "2016-04     54\n",
       "2016-05     57\n",
       "2016-06     81\n",
       "2016-07     94\n",
       "2016-08     63\n",
       "2016-09     71\n",
       "2016-10     71\n",
       "2016-11     69\n",
       "2016-12     61\n",
       "2017-01     77\n",
       "2017-02     68\n",
       "2017-03     53\n",
       "2017-04     44\n",
       "2017-05     46\n",
       "2017-06     46\n",
       "2017-07     50\n",
       "2017-08      2\n",
       "Name: timestamp, dtype: int64"
      ]
     },
     "execution_count": 82,
     "metadata": {},
     "output_type": "execute_result"
    }
   ],
   "source": [
    "df['timestamp'].dt.strftime('%Y-%m').value_counts().sort_index()"
   ]
  },
  {
   "cell_type": "markdown",
   "metadata": {},
   "source": [
    "As we can see the number of tweets first rose at the beginning of the thread, then gradually started decreasing, till the tweets were all archived"
   ]
  },
  {
   "cell_type": "code",
   "execution_count": 83,
   "metadata": {},
   "outputs": [],
   "source": [
    "import matplotlib.pyplot as plt\n",
    "%matplotlib inline"
   ]
  },
  {
   "cell_type": "code",
   "execution_count": 84,
   "metadata": {},
   "outputs": [
    {
     "data": {
      "image/png": "[encoded data removed]",
      "text/plain": [
       "<Figure size 864x720 with 1 Axes>"
      ]
     },
     "metadata": {
      "needs_background": "light"
     },
     "output_type": "display_data"
    }
   ],
   "source": [
    "time_plot = df['timestamp'].dt.strftime('%Y-%m').value_counts().sort_index().plot(kind='line', title='WeRateDogs\\' tweets over time', figsize=(12,10));\n",
    "plt.xlabel('Year, Month');\n",
    "plt.ylabel('Tweets');\n",
    "plt.savefig('time_tweets')"
   ]
  },
  {
   "cell_type": "code",
   "execution_count": 85,
   "metadata": {},
   "outputs": [
    {
     "data": {
      "text/plain": [
       "Twitter for iPhone    2032\n",
       "Twitter Web Client      30\n",
       "TweetDeck               11\n",
       "Name: source, dtype: int64"
      ]
     },
     "execution_count": 85,
     "metadata": {},
     "output_type": "execute_result"
    }
   ],
   "source": [
    "# checking out the twitter tweets sources\n",
    "df.source.value_counts()\n"
   ]
  },
  {
   "cell_type": "code",
   "execution_count": 86,
   "metadata": {},
   "outputs": [
    {
     "name": "stdout",
     "output_type": "stream",
     "text": [
      "the percentage of people tweeted with iphone are 98.02219006271105%\n"
     ]
    }
   ],
   "source": [
    "print('the percentage of people tweeted with iphone are {}%'.format((len(df[df['source'] == 'Twitter for iPhone'])/(len(df['source'])))*100))"
   ]
  },
  {
   "cell_type": "code",
   "execution_count": 87,
   "metadata": {},
   "outputs": [
    {
     "data": {
      "image/png": "[encoded data removed]",
      "text/plain": [
       "<Figure size 432x288 with 1 Axes>"
      ]
     },
     "metadata": {
      "needs_background": "light"
     },
     "output_type": "display_data"
    }
   ],
   "source": [
    "df.source.value_counts().plot(kind='bar',title='Source vs Tweets')\n",
    "plt.xlabel('source')\n",
    "plt.ylabel('tweets')\n",
    "plt.savefig('source')"
   ]
  },
  {
   "cell_type": "markdown",
   "metadata": {},
   "source": [
    "As seen the twitter for iphone is the most used tweet source, this might suggest that most people who were able to access the thread were iphone users at roughly more than 98%\n"
   ]
  },
  {
   "cell_type": "markdown",
   "metadata": {},
   "source": [
    "Taking a look at the distribution of the dog breeds and the number of indivdual tweets about them, suggesting the number of people whose pets were these dogs"
   ]
  },
  {
   "cell_type": "code",
   "execution_count": 88,
   "metadata": {},
   "outputs": [
    {
     "data": {
      "image/png": "[encoded data removed]",
      "text/plain": [
       "<Figure size 1080x936 with 1 Axes>"
      ]
     },
     "metadata": {
      "needs_background": "light"
     },
     "output_type": "display_data"
    }
   ],
   "source": [
    "breed_plot = df.dog_breed[df['dog_breed'] != 'None'].value_counts().plot(kind ='bar', title = 'plot of dog breeds against number of tweets', figsize=(15, 13));\n",
    "breed_plot.set_ylabel('number of tweets');\n",
    "breed_plot.set_xlabel('dog breed');"
   ]
  },
  {
   "cell_type": "markdown",
   "metadata": {},
   "source": [
    "The above shows the distribution of the dog breeds "
   ]
  },
  {
   "cell_type": "code",
   "execution_count": 89,
   "metadata": {},
   "outputs": [
    {
     "data": {
      "image/png": "[encoded data removed]",
      "text/plain": [
       "<Figure size 720x576 with 1 Axes>"
      ]
     },
     "metadata": {
      "needs_background": "light"
     },
     "output_type": "display_data"
    }
   ],
   "source": [
    "df.dog_breed[df.dog_breed != 'None'].value_counts().head(15).plot(kind='bar', title='plot of top 15 dog_breed counts', figsize = (10,8));\n",
    "plt.ylabel('number of tweets');\n",
    "plt.xlabel('dog breeds');\n",
    "plt.savefig('breed')"
   ]
  },
  {
   "cell_type": "code",
   "execution_count": 90,
   "metadata": {},
   "outputs": [
    {
     "data": {
      "text/plain": [
       "pupper     210\n",
       "doggo       78\n",
       "puppo       24\n",
       "floofer      8\n",
       "None         0\n",
       "Name: dog_stage, dtype: int64"
      ]
     },
     "execution_count": 90,
     "metadata": {},
     "output_type": "execute_result"
    }
   ],
   "source": [
    "df.dog_stage[df['dog_stage'] != 'None'].value_counts()"
   ]
  },
  {
   "cell_type": "raw",
   "metadata": {},
   "source": [
    "stage_plot = df.dog_stage[df['dog_stage'] != 'None'].value_counts().plot(kind='pie', title = 'plot of the varying dog stages')\n",
    "plt.savefig('stage')"
   ]
  },
  {
   "cell_type": "code",
   "execution_count": 91,
   "metadata": {},
   "outputs": [
    {
     "name": "stderr",
     "output_type": "stream",
     "text": [
      "C:\\Users\\HP\\Anaconda3\\lib\\site-packages\\ipykernel_launcher.py:2: FutureWarning: `Series.plot()` should not be called with positional arguments, only keyword arguments. The order of positional arguments will change in the future. Use `Series.plot(kind='line')` instead of `Series.plot('line',)`.\n",
      "  \n",
      "C:\\Users\\HP\\Anaconda3\\lib\\site-packages\\ipykernel_launcher.py:3: FutureWarning: `Series.plot()` should not be called with positional arguments, only keyword arguments. The order of positional arguments will change in the future. Use `Series.plot(kind='line')` instead of `Series.plot('line',)`.\n",
      "  This is separate from the ipykernel package so we can avoid doing imports until\n"
     ]
    },
    {
     "data": {
      "image/png": "[encoded data removed]",
      "text/plain": [
       "<Figure size 432x288 with 1 Axes>"
      ]
     },
     "metadata": {
      "needs_background": "light"
     },
     "output_type": "display_data"
    }
   ],
   "source": [
    "plt.subplots(1, sharex=True)\n",
    "df.retweet_count.groupby([df[\"timestamp\"].dt.year, df[\"timestamp\"].dt.month]).mean().plot('line')\n",
    "df.favorite_count.groupby([df[\"timestamp\"].dt.year, df[\"timestamp\"].dt.month]).mean().plot('line').set_ylim(0, )\n",
    "plt.title('Retweeting and Favoriting trend over time')\n",
    "plt.ylabel('Count')\n",
    "plt.xlabel('(Year, Month)')\n",
    "plt.legend(('Retweets', 'Favorites'))\n",
    "plt.savefig('time')"
   ]
  },
  {
   "cell_type": "code",
   "execution_count": 92,
   "metadata": {},
   "outputs": [
    {
     "data": {
      "image/png": "[encoded data removed]",
      "text/plain": [
       "<Figure size 432x288 with 1 Axes>"
      ]
     },
     "metadata": {
      "needs_background": "light"
     },
     "output_type": "display_data"
    }
   ],
   "source": [
    "r_plot = df.rating_numerator.value_counts().plot(kind='bar', title = 'plot of the ratings');\n",
    "plt.ylabel('number of tweets');\n",
    "plt.xlabel('ratings out of 10');\n",
    "plt.savefig('rating')"
   ]
  },
  {
   "cell_type": "code",
   "execution_count": 93,
   "metadata": {},
   "outputs": [
    {
     "data": {
      "text/plain": [
       "913"
      ]
     },
     "execution_count": 93,
     "metadata": {},
     "output_type": "execute_result"
    }
   ],
   "source": [
    "len(df.name[df.name != 'None'].value_counts())"
   ]
  },
  {
   "cell_type": "markdown",
   "metadata": {},
   "source": [
    "We have 913 unique names excluding none in the cleaned dataframe"
   ]
  },
  {
   "cell_type": "code",
   "execution_count": 94,
   "metadata": {},
   "outputs": [
    {
     "data": {
      "image/png": "[encoded data removed]",
      "text/plain": [
       "<Figure size 432x288 with 1 Axes>"
      ]
     },
     "metadata": {
      "needs_background": "light"
     },
     "output_type": "display_data"
    }
   ],
   "source": [
    "df.name[df.name != 'None'].value_counts().head(10).plot(kind= 'bar');\n",
    "plt.title('The plot of the values of dog names');\n",
    "plt.xlabel('Dog names');\n",
    "plt.ylabel('number of dogs');\n",
    "plt.savefig('dog_names')"
   ]
  },
  {
   "cell_type": "markdown",
   "metadata": {},
   "source": [
    "The most frequent dog name is 'charlie'"
   ]
  },
  {
   "cell_type": "code",
   "execution_count": 95,
   "metadata": {},
   "outputs": [],
   "source": [
    "mean_retweet_doggo = df.retweet_count[df.dog_stage == 'doggo'].mean()\n",
    "mean_retweet_puppo = df.retweet_count[df.dog_stage == 'puppo'].mean()\n",
    "mean_retweet_pupper = df.retweet_count[df.dog_stage == 'pupper'].mean()\n",
    "mean_retweet_floofer = df.retweet_count[df.dog_stage == 'floofer'].mean()\n",
    "mean_retweets = [mean_retweet_doggo,mean_retweet_puppo,mean_retweet_pupper,mean_retweet_floofer]"
   ]
  },
  {
   "cell_type": "code",
   "execution_count": 96,
   "metadata": {},
   "outputs": [
    {
     "data": {
      "image/png": "[encoded data removed]",
      "text/plain": [
       "<Figure size 432x288 with 1 Axes>"
      ]
     },
     "metadata": {
      "needs_background": "light"
     },
     "output_type": "display_data"
    }
   ],
   "source": [
    "mean_retweets = pd.Series(mean_retweets)\n",
    "plt.bar(['1','2','3','4'], mean_retweets,tick_label=['doggo','puppo','pupper','floofer']);\n",
    "plt.title('the plot of the dog stages against the mean of retweet counts')\n",
    "plt.xlabel('dog stage')\n",
    "plt.ylabel('mean retweets')\n",
    "plt.savefig('mean_retweets')"
   ]
  },
  {
   "cell_type": "code",
   "execution_count": 97,
   "metadata": {},
   "outputs": [],
   "source": [
    "mean_doggo_favs = df.favorite_count[df.dog_stage == 'doggo'].mean()\n",
    "mean_puppo_favs = df.favorite_count[df.dog_stage == 'puppo'].mean()\n",
    "mean_pupper_favs = df.favorite_count[df.dog_stage == 'pupper'].mean()\n",
    "mean_floofer_favs = df.favorite_count[df.dog_stage == 'floofer'].mean()"
   ]
  },
  {
   "cell_type": "code",
   "execution_count": 98,
   "metadata": {},
   "outputs": [
    {
     "data": {
      "image/png": "[encoded data removed]",
      "text/plain": [
       "<Figure size 432x288 with 1 Axes>"
      ]
     },
     "metadata": {
      "needs_background": "light"
     },
     "output_type": "display_data"
    }
   ],
   "source": [
    "mean_favs = [mean_doggo_favs,mean_puppo_favs,mean_pupper_favs,mean_floofer_favs]\n",
    "plt.bar(['1','2','3','4'], mean_favs,tick_label=['doggo','puppo','pupper','floofer']);\n",
    "plt.title('the plot of the dog stages against the mean of favorite counts')\n",
    "plt.xlabel('dog stage')\n",
    "plt.ylabel('mean favorites count')\n",
    "plt.savefig('mean_favs')"
   ]
  },
  {
   "cell_type": "code",
   "execution_count": null,
   "metadata": {},
   "outputs": [],
   "source": []
  },
  {
   "cell_type": "code",
   "execution_count": null,
   "metadata": {},
   "outputs": [],
   "source": []
  },
  {
   "cell_type": "code",
   "execution_count": null,
   "metadata": {},
   "outputs": [],
   "source": []
  }
 ],
 "metadata": {
  "kernelspec": {
   "display_name": "Python 3",
   "language": "python",
   "name": "python3"
  },
  "language_info": {
   "codemirror_mode": {
    "name": "ipython",
    "version": 3
   },
   "file_extension": ".py",
   "mimetype": "text/x-python",
   "name": "python",
   "nbconvert_exporter": "python",
   "pygments_lexer": "ipython3",
   "version": "3.7.4"
  }
 },
 "nbformat": 4,
 "nbformat_minor": 2
}
